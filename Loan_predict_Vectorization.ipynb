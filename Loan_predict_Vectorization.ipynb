{
 "cells": [
  {
   "cell_type": "code",
   "execution_count": 1,
   "id": "9a067a25",
   "metadata": {
    "scrolled": true
   },
   "outputs": [],
   "source": [
    "#import packages to do vectorization\n",
    "import pandas as pd\n",
    "import numpy as np\n",
    "\n",
    "import os\n",
    "import gc\n",
    "\n",
    "from sklearn.model_selection import train_test_split\n",
    "from tqdm import tqdm\n",
    "from scipy.sparse import coo_matrix,hstack,vstack\n",
    "from sklearn.preprocessing import StandardScaler\n",
    "from sklearn.feature_extraction.text import CountVectorizer"
   ]
  },
  {
   "cell_type": "markdown",
   "id": "ef590d15",
   "metadata": {},
   "source": [
    "#### Read preprocessed file"
   ]
  },
  {
   "cell_type": "code",
   "execution_count": 2,
   "id": "70f48ebb",
   "metadata": {
    "scrolled": false
   },
   "outputs": [],
   "source": [
    "df_train = pd.read_csv(\"./data/pre_processed_df_train_1.csv\",sep='\\t', encoding='utf-8')"
   ]
  },
  {
   "cell_type": "code",
   "execution_count": 3,
   "id": "dc644018",
   "metadata": {},
   "outputs": [
    {
     "name": "stdout",
     "output_type": "stream",
     "text": [
      "# of categorical columns~~> 36\n"
     ]
    },
    {
     "data": {
      "text/plain": [
       "'NAME_CONTRACT_TYPE'"
      ]
     },
     "execution_count": 3,
     "metadata": {},
     "output_type": "execute_result"
    }
   ],
   "source": [
    "categorical_columns=df_train.select_dtypes(include=object).columns.to_list()\n",
    "print('# of categorical columns~~> {}'.format(len(categorical_columns)))\n",
    "categorical_columns[0]"
   ]
  },
  {
   "cell_type": "code",
   "execution_count": 4,
   "id": "080aeee0",
   "metadata": {},
   "outputs": [],
   "source": [
    "df_cat=df_train[categorical_columns].copy(deep=True)"
   ]
  },
  {
   "cell_type": "code",
   "execution_count": 5,
   "id": "4c921546",
   "metadata": {},
   "outputs": [],
   "source": [
    "#Below method will transform all categorical values to \n",
    "def convert_cat_to_vector(cat_columns,x_tr,x_te,y_tr):\n",
    "    pattern = \"(?u)\\\\b[\\\\w-]+\\\\b\"\n",
    "    cat_feature_names=list()\n",
    "    vect_bow = CountVectorizer(token_pattern=pattern)\n",
    "    #This method is to build all categorical features into numerical feature\n",
    "    for idx,feature in enumerate(tqdm(cat_columns)):\n",
    "        vect_bow.fit(X_train[feature].values)\n",
    "        X_tr_bow = vect_bow.transform(X_train[feature].values)\n",
    "        X_te_bow = vect_bow.transform(X_test[feature].values)\n",
    "\n",
    "        if idx==0: # first categorical features\n",
    "            tr_cat_vector  = X_tr_bow\n",
    "            te_cat_vector  = X_te_bow\n",
    "        else:\n",
    "            tr_cat_vector  = hstack((tr_cat_vector,X_tr_bow))\n",
    "            te_cat_vector  = hstack((te_cat_vector,X_te_bow))\n",
    "        cat_feature_names.extend(vect_bow.get_feature_names())     \n",
    "    return tr_cat_vector,te_cat_vector,cat_feature_names"
   ]
  },
  {
   "cell_type": "code",
   "execution_count": 7,
   "id": "61991ce3",
   "metadata": {},
   "outputs": [
    {
     "name": "stderr",
     "output_type": "stream",
     "text": [
      "100%|██████████████████████████████████████████████████████████████████████████████████| 36/36 [00:46<00:00,  1.29s/it]\n"
     ]
    }
   ],
   "source": [
    "# y class lables.\n",
    "y = df_train['TARGET'].values\n",
    "#categorical featuers only \n",
    "\n",
    "\n",
    "train_pct_index = int(0.67 * len(df_cat))\n",
    "X_train, X_test = df_cat[:train_pct_index], df_cat[train_pct_index:]\n",
    "y_train, y_test =y[:train_pct_index], y[train_pct_index:]\n",
    "\n",
    "\n",
    "#invoke categorical to vector\n",
    "\n",
    "#invoke categorical response coding method to convert categorical values to numerical vector\n",
    "tr_cat_vect,te_cat_vect,cat_feature_names= convert_cat_to_vector(cat_columns=categorical_columns,x_tr=X_train,x_te=X_test,y_tr=y_train)"
   ]
  },
  {
   "cell_type": "markdown",
   "id": "52a451e0",
   "metadata": {},
   "source": [
    "#### Remove unnecessary columns"
   ]
  },
  {
   "cell_type": "code",
   "execution_count": 8,
   "id": "36d58ab6",
   "metadata": {},
   "outputs": [
    {
     "name": "stdout",
     "output_type": "stream",
     "text": [
      "# of Numerical columns~~> 977\n"
     ]
    },
    {
     "data": {
      "text/plain": [
       "'CNT_CHILDREN'"
      ]
     },
     "execution_count": 8,
     "metadata": {},
     "output_type": "execute_result"
    }
   ],
   "source": [
    "numerical_columns=df_train.select_dtypes(exclude=object).columns.to_list()\n",
    "numerical_columns.remove('TARGET')\n",
    "numerical_columns.remove('Unnamed: 0')\n",
    "numerical_columns.remove('SK_ID_CURR')\n",
    "numerical_columns.remove('1')\n",
    "print('# of Numerical columns~~> {}'.format(len(numerical_columns)))\n",
    "numerical_columns[0]"
   ]
  },
  {
   "cell_type": "code",
   "execution_count": 9,
   "id": "241ab58a",
   "metadata": {},
   "outputs": [],
   "source": [
    "df_num=df_train[numerical_columns].copy(deep=True)"
   ]
  },
  {
   "cell_type": "code",
   "execution_count": 10,
   "id": "78b7d739",
   "metadata": {},
   "outputs": [
    {
     "data": {
      "text/plain": [
       "14"
      ]
     },
     "execution_count": 10,
     "metadata": {},
     "output_type": "execute_result"
    }
   ],
   "source": [
    "gc.enable()\n",
    "del df_train\n",
    "gc.collect()"
   ]
  },
  {
   "cell_type": "code",
   "execution_count": 11,
   "id": "d0f85e03",
   "metadata": {
    "scrolled": true
   },
   "outputs": [],
   "source": [
    "#before imputing, replace infinite values with np.nan values. Inputer will update with median values\n",
    "df_num.replace([np.inf, -np.inf,np.nan], 0, inplace=True)"
   ]
  },
  {
   "cell_type": "code",
   "execution_count": 12,
   "id": "46105b05",
   "metadata": {},
   "outputs": [],
   "source": [
    "train_pct_index = int(0.67 * len(df_num))\n",
    "X_train, X_test = df_num[:train_pct_index], df_num[train_pct_index:]\n",
    "y_train, y_test =y[:train_pct_index], y[train_pct_index:]"
   ]
  },
  {
   "cell_type": "code",
   "execution_count": 13,
   "id": "d66243f2",
   "metadata": {
    "scrolled": true
   },
   "outputs": [
    {
     "name": "stderr",
     "output_type": "stream",
     "text": [
      "100%|████████████████████████████████████████████████████████████████████████████████| 977/977 [04:59<00:00,  3.26it/s]\n"
     ]
    }
   ],
   "source": [
    "def convert_num_to_vector(num_columns,x_tr,x_te):\n",
    "    # normalizer.fit(X_train['price'].values)\n",
    "    # this will rise an error Expected 2D array, got 1D array instead: \n",
    "    # array=[105.22 215.96  96.01 ... 368.98  80.53 709.67].\n",
    "    # Reshape your data either using \n",
    "    # array.reshape(-1, 1) if your data has a single feature \n",
    "    # array.reshape(1, -1)  if it contains a single sample.\n",
    "    #Imputation of numerical data\n",
    "    stdscaler = StandardScaler(with_mean=True, with_std=True)\n",
    "    feature_names=list()\n",
    "\n",
    "    for idx,feature in enumerate(tqdm(num_columns)):\n",
    "        #fit and transform only for training set\n",
    "        X_tr_std_col = stdscaler.fit_transform(x_tr[feature].values.reshape(-1,1))\n",
    "        #transform test datapoints\n",
    "        X_te_std_col = stdscaler.transform(x_te[feature].values.reshape(-1,1))\n",
    "        #feature names list\n",
    "        feature_names.append(feature)\n",
    "        if idx==0:\n",
    "            tr_num_vector = X_tr_std_col\n",
    "            te_num_vector = X_te_std_col\n",
    "        else:\n",
    "            tr_num_vector = np.hstack((tr_num_vector,X_tr_std_col))\n",
    "            te_num_vector = np.hstack((te_num_vector,X_te_std_col))\n",
    "    return  tr_num_vector,  te_num_vector,feature_names \n",
    "#convert numerical fetures to vector form using normalizer\n",
    "tr_num_vect,te_num_vect,num_feature_names= convert_num_to_vector(num_columns=numerical_columns,\n",
    "                                                                 x_tr=X_train,x_te=X_test)"
   ]
  },
  {
   "cell_type": "code",
   "execution_count": 14,
   "id": "9434a2a4",
   "metadata": {},
   "outputs": [
    {
     "data": {
      "text/plain": [
       "0"
      ]
     },
     "execution_count": 14,
     "metadata": {},
     "output_type": "execute_result"
    }
   ],
   "source": [
    "#### since dataset is huge, try to delete /carbage it manually to improve the performance\n",
    "gc.enable()\n",
    "del X_train,X_test,df_cat,df_num\n",
    "gc.collect()"
   ]
  },
  {
   "cell_type": "code",
   "execution_count": 15,
   "id": "c024d875",
   "metadata": {},
   "outputs": [],
   "source": [
    "for f in cat_feature_names:\n",
    "    num_feature_names.append(f)"
   ]
  },
  {
   "cell_type": "code",
   "execution_count": 16,
   "id": "f9422061",
   "metadata": {},
   "outputs": [],
   "source": [
    "X_train_vector = hstack((coo_matrix(tr_num_vect),tr_cat_vect))\n",
    "X_test_vector = hstack((coo_matrix(te_num_vect),te_cat_vect))"
   ]
  },
  {
   "cell_type": "code",
   "execution_count": 17,
   "id": "fb3af3b8",
   "metadata": {
    "scrolled": true
   },
   "outputs": [
    {
     "name": "stdout",
     "output_type": "stream",
     "text": [
      "Final Data matrix ...\n",
      "=========================\n",
      "(206032, 1384) (206032,)\n",
      "(101479, 1384) (101479,)\n",
      "1384\n"
     ]
    }
   ],
   "source": [
    "print(\"Final Data matrix ...\")\n",
    "print(\"=\"*25)\n",
    "print(X_train_vector.shape, y_train.shape)\n",
    "print(X_test_vector.shape, y_test.shape)\n",
    "print(len(num_feature_names))"
   ]
  },
  {
   "cell_type": "code",
   "execution_count": 18,
   "id": "eaff6e19",
   "metadata": {
    "scrolled": false
   },
   "outputs": [
    {
     "name": "stdout",
     "output_type": "stream",
     "text": [
      "(307511, 1384) (307511,)\n"
     ]
    }
   ],
   "source": [
    "X=vstack((X_train_vector,X_test_vector))\n",
    "y=np.concatenate([y_train,y_test],axis=0)\n",
    "print(X.shape,y.shape)"
   ]
  },
  {
   "cell_type": "code",
   "execution_count": 19,
   "id": "536778e5",
   "metadata": {},
   "outputs": [
    {
     "data": {
      "text/plain": [
       "0"
      ]
     },
     "execution_count": 19,
     "metadata": {},
     "output_type": "execute_result"
    }
   ],
   "source": [
    "gc.enable()\n",
    "del tr_num_vect, tr_cat_vect, te_num_vect, te_cat_vect,X_train_vector,X_test_vector\n",
    "gc.collect()"
   ]
  },
  {
   "cell_type": "markdown",
   "id": "aae59a28",
   "metadata": {},
   "source": [
    "#### Save vectors in pickle file."
   ]
  },
  {
   "cell_type": "code",
   "execution_count": 20,
   "id": "bf7119b2",
   "metadata": {},
   "outputs": [],
   "source": [
    "df_train = pd.DataFrame(X.toarray(), columns =num_feature_names)"
   ]
  },
  {
   "cell_type": "code",
   "execution_count": 21,
   "id": "6bd35952",
   "metadata": {},
   "outputs": [],
   "source": [
    "import pickle\n",
    "with open('./data/train_vector_2.pkl', 'wb') as f:\n",
    "    pickle.dump(X, f)"
   ]
  },
  {
   "cell_type": "code",
   "execution_count": 22,
   "id": "e4b02c71",
   "metadata": {},
   "outputs": [],
   "source": [
    "with open('./data/yvalues_2.pkl', 'wb') as yvalues:\n",
    "    pickle.dump(y, yvalues)"
   ]
  },
  {
   "cell_type": "markdown",
   "id": "9f57b3bc",
   "metadata": {},
   "source": [
    "#### Save Feature names"
   ]
  },
  {
   "cell_type": "code",
   "execution_count": 23,
   "id": "9a7445c4",
   "metadata": {},
   "outputs": [],
   "source": [
    "with open('./data/feature_names_2.pkl', 'wb') as feature:\n",
    "    pickle.dump(num_feature_names, feature)"
   ]
  },
  {
   "cell_type": "markdown",
   "id": "8afcb720",
   "metadata": {},
   "source": [
    "#### verify the shapes"
   ]
  },
  {
   "cell_type": "code",
   "execution_count": 24,
   "id": "d1d194f2",
   "metadata": {},
   "outputs": [],
   "source": [
    "with open('./data/train_vector_2.pkl', 'rb') as f:\n",
    "    X = pickle.load(f)"
   ]
  },
  {
   "cell_type": "code",
   "execution_count": 25,
   "id": "3c165088",
   "metadata": {},
   "outputs": [
    {
     "name": "stdout",
     "output_type": "stream",
     "text": [
      "(307511, 1384)\n"
     ]
    }
   ],
   "source": [
    "print(X.shape)"
   ]
  },
  {
   "cell_type": "code",
   "execution_count": 26,
   "id": "a6112d78",
   "metadata": {},
   "outputs": [
    {
     "name": "stdout",
     "output_type": "stream",
     "text": [
      "(307511,)\n"
     ]
    }
   ],
   "source": [
    "with open('./data/yvalues_2.pkl', 'rb') as f:\n",
    "    y = pickle.load(f)\n",
    "print(y.shape)"
   ]
  },
  {
   "cell_type": "code",
   "execution_count": 27,
   "id": "759cef93",
   "metadata": {},
   "outputs": [
    {
     "data": {
      "text/plain": [
       "1384"
      ]
     },
     "execution_count": 27,
     "metadata": {},
     "output_type": "execute_result"
    }
   ],
   "source": [
    "with open('./data/feature_names_2.pkl', 'rb') as f:\n",
    "    f_names = pickle.load(f)\n",
    "len(f_names)"
   ]
  }
 ],
 "metadata": {
  "kernelspec": {
   "display_name": "Python 3 (ipykernel)",
   "language": "python",
   "name": "python3"
  },
  "language_info": {
   "codemirror_mode": {
    "name": "ipython",
    "version": 3
   },
   "file_extension": ".py",
   "mimetype": "text/x-python",
   "name": "python",
   "nbconvert_exporter": "python",
   "pygments_lexer": "ipython3",
   "version": "3.9.7"
  }
 },
 "nbformat": 4,
 "nbformat_minor": 5
}
