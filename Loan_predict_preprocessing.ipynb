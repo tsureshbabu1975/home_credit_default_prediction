{
 "cells": [
  {
   "cell_type": "code",
   "execution_count": 1,
   "id": "49654344",
   "metadata": {},
   "outputs": [],
   "source": [
    "#import packages to do EDA\n",
    "import pandas as pd\n",
    "import numpy as np\n",
    "\n",
    "import os\n",
    "%matplotlib inline\n",
    "import gc\n",
    "\n",
    "# http://zetcode.com/python/prettytable/\n",
    "from prettytable import PrettyTable\n",
    "import matplotlib.font_manager\n",
    "import warnings\n",
    "warnings.filterwarnings(\"ignore\")"
   ]
  },
  {
   "cell_type": "code",
   "execution_count": 2,
   "id": "29001300",
   "metadata": {},
   "outputs": [],
   "source": [
    "#Credit :- https://www.kaggle.com/rinnqd/reduce-memory-usage\n",
    "def reduce_memory_usage(df):\n",
    "    start_mem = df.memory_usage().sum() / 1024**2\n",
    "    print('Memory usage of dataframe is {:.2f} MB'.format(start_mem))\n",
    "    \n",
    "    for col in df.columns:\n",
    "        col_type = df[col].dtype\n",
    "        \n",
    "        if col_type != object:\n",
    "            c_min = df[col].min()\n",
    "            c_max = df[col].max()\n",
    "            if str(col_type)[:3] == 'int':\n",
    "                if c_min > np.iinfo(np.int8).min and c_max < np.iinfo(np.int8).max:\n",
    "                    df[col] = df[col].astype(np.int8)\n",
    "                elif c_min > np.iinfo(np.int16).min and c_max < np.iinfo(np.int16).max:\n",
    "                    df[col] = df[col].astype(np.int16)\n",
    "                elif c_min > np.iinfo(np.int32).min and c_max < np.iinfo(np.int32).max:\n",
    "                    df[col] = df[col].astype(np.int32)\n",
    "                elif c_min > np.iinfo(np.int64).min and c_max < np.iinfo(np.int64).max:\n",
    "                    df[col] = df[col].astype(np.int64)  \n",
    "            else:\n",
    "                if c_min > np.finfo(np.float16).min and c_max < np.finfo(np.float16).max:\n",
    "                    df[col] = df[col].astype(np.float16)\n",
    "                elif c_min > np.finfo(np.float32).min and c_max < np.finfo(np.float32).max:\n",
    "                    df[col] = df[col].astype(np.float32)\n",
    "                else:\n",
    "                    df[col] = df[col].astype(np.float64)\n",
    "\n",
    "    end_mem = df.memory_usage().sum() / 1024**2\n",
    "    print('Memory usage after optimization is: {:.2f} MB'.format(end_mem))\n",
    "    print('Decreased by {:.1f}%'.format(100 * (start_mem - end_mem) / start_mem))\n",
    "    \n",
    "    return df"
   ]
  },
  {
   "cell_type": "code",
   "execution_count": 3,
   "id": "28dc83b8",
   "metadata": {},
   "outputs": [],
   "source": [
    "pd.set_option('display.max_columns', None) "
   ]
  },
  {
   "cell_type": "code",
   "execution_count": 4,
   "id": "338ea04f",
   "metadata": {},
   "outputs": [
    {
     "name": "stdout",
     "output_type": "stream",
     "text": [
      "Memory usage of dataframe is 286.23 MB\n",
      "Memory usage after optimization is: 92.38 MB\n",
      "Decreased by 67.7%\n"
     ]
    }
   ],
   "source": [
    "#df_train =  reduce_memory_usage(pd.read_csv('./data/application_train.csv', encoding= 'unicode_escape', nrows=2000))\n",
    "df_train =  reduce_memory_usage(pd.read_csv('./data/application_train.csv', encoding= 'unicode_escape'))"
   ]
  },
  {
   "cell_type": "code",
   "execution_count": 5,
   "id": "09f54e1c",
   "metadata": {},
   "outputs": [],
   "source": [
    "#below columns are removed as it is highly correlated with other columns. Refer EDA \n",
    "cols=['CNT_FAM_MEMBERS','REGION_RATING_CLIENT','REGION_RATING_CLIENT_W_CITY',\n",
    "      'LIVE_REGION_NOT_WORK_REGION', 'LIVE_CITY_NOT_WORK_CITY','ELEVATORS_AVG', 'ENTRANCES_AVG','LIVINGAREA_AVG', \n",
    "      'APARTMENTS_MODE','YEARS_BEGINEXPLUATATION_MODE', 'ELEVATORS_MODE', 'ENTRANCES_MODE','FLOORSMAX_MODE',\n",
    "      'LIVINGAREA_MODE', 'APARTMENTS_MEDI','ELEVATORS_MEDI','ENTRANCES_MEDI','FLOORSMAX_MEDI', 'LIVINGAREA_MEDI', \n",
    "      'HOUSETYPE_MODE', 'TOTALAREA_MODE','YEARS_BEGINEXPLUATATION_MEDI','FLOORSMAX_AVG',\n",
    "      'FLAG_DOCUMENT_6', 'FLAG_DOCUMENT_8','OBS_60_CNT_SOCIAL_CIRCLE','DEF_60_CNT_SOCIAL_CIRCLE',\n",
    "      'BASEMENTAREA_MODE','BASEMENTAREA_MEDI','YEARS_BUILD_MODE','YEARS_BUILD_MEDI','FLOORSMIN_MODE','FLOORSMIN_MEDI',\n",
    "      'LIVINGAPARTMENTS_MODE','LIVINGAPARTMENTS_MEDI','NONLIVINGAPARTMENTS_MODE','NONLIVINGAPARTMENTS_MEDI',\n",
    "      'COMMONAREA_MEDI','COMMONAREA_MODE','LANDAREA_MODE','LANDAREA_MEDI','NONLIVINGAREA_MODE','NONLIVINGAREA_MEDI',\n",
    "      'FLAG_DOCUMENT_2','FLAG_DOCUMENT_4','FLAG_DOCUMENT_5','FLAG_DOCUMENT_7','FLAG_DOCUMENT_9','FLAG_DOCUMENT_10',\n",
    "      'FLAG_DOCUMENT_11','FLAG_DOCUMENT_12','FLAG_DOCUMENT_13','FLAG_DOCUMENT_14','FLAG_DOCUMENT_15','FLAG_DOCUMENT_16',\n",
    "      'FLAG_DOCUMENT_17','FLAG_DOCUMENT_18','FLAG_DOCUMENT_19','FLAG_DOCUMENT_20','FLAG_DOCUMENT_21'\n",
    "     ]\n",
    "df_train.drop(cols,axis=1,inplace=True)"
   ]
  },
  {
   "cell_type": "code",
   "execution_count": 6,
   "id": "38ac2c95",
   "metadata": {},
   "outputs": [],
   "source": [
    "#fix imputation\n",
    "def fill_mostfrequent_value(df):\n",
    "    cat_cols=df.select_dtypes(include=object).columns #categorical values\n",
    "    for col in cat_cols:\n",
    "        df[col].fillna(df[col].value_counts(dropna=True).index[0], inplace=True)\n",
    "    return pd.DataFrame(df)\n",
    "df_train=fill_mostfrequent_value(df_train)"
   ]
  },
  {
   "cell_type": "code",
   "execution_count": 8,
   "id": "61c7f5ad",
   "metadata": {},
   "outputs": [],
   "source": [
    "def fill_median_value(df):\n",
    "    num_cols=df.select_dtypes(exclude=object).columns\n",
    "    for col in num_cols:\n",
    "        df[col].fillna(df[col].median(axis=0,skipna = True),inplace=True)\n",
    "    return pd.DataFrame(df)\n",
    "#fill median value for Numerical columns\n",
    "df_train = fill_median_value(df_train)"
   ]
  },
  {
   "cell_type": "code",
   "execution_count": 10,
   "id": "21b6c33e",
   "metadata": {},
   "outputs": [],
   "source": [
    "df_train['DAYS_EMPLOYED'].replace(365243, np.nan, inplace= True)"
   ]
  },
  {
   "cell_type": "code",
   "execution_count": 11,
   "id": "a16c2f2b",
   "metadata": {},
   "outputs": [],
   "source": [
    "#before function convert negative values to postive and convert them into years. \n",
    "def convert_negative_days_year(days_negative):\n",
    "    #convert negative values to positive, and divide by 365 days to convert years\n",
    "    #finally rounded to 1 decimal.\n",
    "    return np.round(abs(days_negative)/365,1)\n",
    "\n",
    "#Train\n",
    "df_train['Age'] = convert_negative_days_year(df_train['DAYS_BIRTH'])\n",
    "df_train['Employment'] = convert_negative_days_year(df_train['DAYS_EMPLOYED'])\n",
    "df_train['Phone_change_Years'] = convert_negative_days_year(df_train['DAYS_LAST_PHONE_CHANGE'])\n",
    "df_train['Registration_Years'] = convert_negative_days_year(df_train['DAYS_REGISTRATION'])\n",
    "df_train['Id_Publish_Years'] = convert_negative_days_year(df_train['DAYS_ID_PUBLISH'])"
   ]
  },
  {
   "cell_type": "code",
   "execution_count": 12,
   "id": "8befa28b",
   "metadata": {},
   "outputs": [],
   "source": [
    "#drop these columns from train dataset\n",
    "df_train.drop(['DAYS_BIRTH','DAYS_EMPLOYED','DAYS_LAST_PHONE_CHANGE','DAYS_REGISTRATION','DAYS_ID_PUBLISH'],axis=1,inplace=True)"
   ]
  },
  {
   "cell_type": "code",
   "execution_count": 13,
   "id": "63709bc4",
   "metadata": {},
   "outputs": [
    {
     "name": "stdout",
     "output_type": "stream",
     "text": [
      "Train data after Feature Engineering ~>(307511, 69)\n"
     ]
    }
   ],
   "source": [
    "#Try to add some more features domain based\n",
    "# Credit :- https://www.kaggle.com/willkoehrsen/start-here-a-gentle-introduction#Feature-Engineering\n",
    "epsilon=0.001 # to avoid div/0 error \n",
    "def Feature_Engineering(df):\n",
    "    df1 = pd.DataFrame()\n",
    "    df1['SK_ID_CURR']=df['SK_ID_CURR']\n",
    "    df1['pc_Credit_Income'] = np.round((df['AMT_CREDIT'] / (df['AMT_INCOME_TOTAL']+epsilon)),4)\n",
    "    df1['pc_Annuity_Income'] = np.round((df['AMT_ANNUITY'] / (df['AMT_INCOME_TOTAL']+epsilon)),4)\n",
    "    df1['pc_Credit_Annuity'] = np.round((df['AMT_CREDIT'] / (df['AMT_ANNUITY']+epsilon)),4)\n",
    "    df1['Credit_Goods_Diff'] = df['AMT_CREDIT'] - df['AMT_GOODS_PRICE']\n",
    "    df1['pc_Loan_Value']=np.round((df['AMT_CREDIT'] / (df['AMT_GOODS_PRICE']+epsilon)),4)\n",
    "    df1['CREDIT_TERM'] = np.round((df['AMT_ANNUITY'] / (df['AMT_CREDIT']+epsilon)),4)\n",
    "    df1['pc_Employment_Age'] = np.round((df['Employment'] / (df['Age']+epsilon)),4)\n",
    "    return df1\n",
    "\n",
    "df2=Feature_Engineering(df_train)\n",
    "df_train = df_train.merge(df2, on = 'SK_ID_CURR', how = 'left')\n",
    "print('Train data after Feature Engineering ~>{}'.format(df_train.shape))"
   ]
  },
  {
   "cell_type": "code",
   "execution_count": 14,
   "id": "4dba5076",
   "metadata": {},
   "outputs": [
    {
     "data": {
      "text/plain": [
       "8"
      ]
     },
     "execution_count": 14,
     "metadata": {},
     "output_type": "execute_result"
    }
   ],
   "source": [
    "# Merge new features into main dataframe\n",
    "gc.enable()\n",
    "del df2\n",
    "gc.collect()"
   ]
  },
  {
   "cell_type": "code",
   "execution_count": 15,
   "id": "f4b4e65d",
   "metadata": {},
   "outputs": [],
   "source": [
    "df_train['EXT_SOURCE_1'] = df_train['EXT_SOURCE_1'].round(decimals=4)\n",
    "df_train['EXT_SOURCE_2']=df_train['EXT_SOURCE_2'].round(decimals=4)\n",
    "df_train['EXT_SOURCE_3']=df_train['EXT_SOURCE_3'].round(decimals=4)\n",
    "#RuntimeWarning: overflow encountered in multiply\n",
    "#while transforming the below features to polinomial, runtime overflow occurs\n",
    "#to avoid, convert all of them to float64\n",
    "df_train['EXT_SOURCE_1'] = df_train['EXT_SOURCE_1'].astype(np.float64)\n",
    "df_train['EXT_SOURCE_2'] = df_train['EXT_SOURCE_2'].astype(np.float64)\n",
    "df_train['EXT_SOURCE_3'] = df_train['EXT_SOURCE_3'].astype(np.float64)\n",
    "df_train['Age'] = df_train['Age'].astype(np.float64)\n",
    "df_train['Employment'] = df_train['Employment'].astype(np.float64)"
   ]
  },
  {
   "cell_type": "code",
   "execution_count": 16,
   "id": "a92c9608",
   "metadata": {},
   "outputs": [
    {
     "name": "stdout",
     "output_type": "stream",
     "text": [
      "# of Numerical columns ~~>54 and # of Categorical columns ~~> 15 \n"
     ]
    }
   ],
   "source": [
    "categorical_columns=df_train.select_dtypes(include=object).columns.to_list()\n",
    "numerical_columns=df_train.select_dtypes(exclude=object).columns.to_list()\n",
    "print('# of Numerical columns ~~>{} and # of Categorical columns ~~> {} '.format(len(numerical_columns),len(categorical_columns)))"
   ]
  },
  {
   "cell_type": "code",
   "execution_count": 17,
   "id": "3080e16f",
   "metadata": {},
   "outputs": [
    {
     "name": "stdout",
     "output_type": "stream",
     "text": [
      "Polynomial Features shape:  (307511, 21)\n"
     ]
    }
   ],
   "source": [
    "# Try to add some polinomial features\n",
    "\n",
    "# Make a new dataframe for polynomial features\n",
    "#credit: https://www.kaggle.com/willkoehrsen/start-here-a-gentle-introduction#Feature-Engineering\n",
    "#https://scikit-learn.org/stable/modules/generated/sklearn.preprocessing.PolynomialFeatures.html\n",
    "\n",
    "# Generate a new feature matrix consisting of all polynomial combinations of the features with degree less than \n",
    "# or equal to the specified degree. For example, if an input sample is two dimensional and of the form [a, b], \n",
    "# the degree-2 polynomial features are [1, a, b, a^2, ab, b^2].\n",
    "\n",
    "# imputer for handling missing values\n",
    "from sklearn.preprocessing import PolynomialFeatures\n",
    "from sklearn.impute import SimpleImputer\n",
    "imputer = SimpleImputer(missing_values=np.nan, strategy='median')\n",
    "\n",
    "poly_features = df_train[['SK_ID_CURR','EXT_SOURCE_1','EXT_SOURCE_2', 'EXT_SOURCE_3', 'Age', 'Employment','TARGET']]\n",
    "\n",
    "poly_target = poly_features['TARGET']\n",
    "poly_features = poly_features.drop(columns = ['TARGET'])\n",
    "\n",
    "# Need to impute missing values\n",
    "poly_features = imputer.fit_transform(poly_features[['EXT_SOURCE_1','EXT_SOURCE_2', 'EXT_SOURCE_3', 'Age','Employment']])\n",
    "\n",
    "# Create the polynomial object with specified degree\n",
    "poly_transformer = PolynomialFeatures(degree = 2)\n",
    "\n",
    "# Train the polynomial features\n",
    "poly_features= poly_transformer.fit_transform(poly_features)\n",
    "\n",
    "print('Polynomial Features shape: ', poly_features.shape)"
   ]
  },
  {
   "cell_type": "code",
   "execution_count": 18,
   "id": "acdd341c",
   "metadata": {},
   "outputs": [],
   "source": [
    "poly_features = pd.DataFrame(poly_features, \n",
    "                            columns = poly_transformer.get_feature_names(\n",
    "                                            input_features = ['EXT_SOURCE_1','EXT_SOURCE_2','EXT_SOURCE_3', 'Age','Employment']))\n",
    "poly_features['SK_ID_CURR'] = df_train['SK_ID_CURR']\n",
    "\n",
    "# Merge polynomial features into training dataframe\n",
    "df_train = df_train.merge(poly_features, on = 'SK_ID_CURR', how = 'left')"
   ]
  },
  {
   "cell_type": "code",
   "execution_count": 19,
   "id": "3593096a",
   "metadata": {},
   "outputs": [
    {
     "name": "stdout",
     "output_type": "stream",
     "text": [
      "(307511, 90)\n"
     ]
    }
   ],
   "source": [
    "print(df_train.shape)"
   ]
  },
  {
   "cell_type": "markdown",
   "id": "1fec74a7",
   "metadata": {},
   "source": [
    "#### Merge Bureau, Bureau Balance to Train"
   ]
  },
  {
   "cell_type": "code",
   "execution_count": 20,
   "id": "27c9e64b",
   "metadata": {},
   "outputs": [],
   "source": [
    "# we will put together all above bureau functions, into one function. So that, we can use it for \n",
    "# other dataframes\n",
    "# credit:https://www.kaggle.com/willkoehrsen/introduction-to-manual-feature-engineering\n",
    "def numeric_aggregate(df, group_var, df_name):\n",
    "    \"\"\"Aggregates the numeric values in a dataframe. This can\n",
    "    be used to create features for each instance of the grouping variable.\n",
    "    \n",
    "    Parameters\n",
    "    --------\n",
    "        df (dataframe): \n",
    "            the dataframe to calculate the statistics on\n",
    "        group_var (string): \n",
    "            the variable by which to group df\n",
    "        df_name (string): \n",
    "            the variable used to rename the columns\n",
    "        \n",
    "    Return\n",
    "    --------\n",
    "        agg (dataframe): \n",
    "            a dataframe with the statistics aggregated for \n",
    "            all numeric columns. Each instance of the grouping variable will have \n",
    "            the statistics (mean, min, max, sum; currently supported) calculated. \n",
    "            The columns are also renamed to keep track of features created.\n",
    "    \n",
    "    \"\"\"\n",
    "    # Remove id variables other than grouping variable\n",
    "    for col in df:\n",
    "        if col != group_var and 'SK_ID' in col:\n",
    "            df = df.drop(columns = col)\n",
    "            \n",
    "    group_ids = df[group_var]\n",
    "    numeric_df = df.select_dtypes('number')\n",
    "    numeric_df[group_var] = group_ids\n",
    "\n",
    "    # Group by the specified variable and calculate the statistics\n",
    "    agg = numeric_df.groupby(group_var).agg(['count', 'mean', 'max', 'min', 'sum']).reset_index()\n",
    "\n",
    "    # Need to create new column names\n",
    "    columns = [group_var]\n",
    "\n",
    "    # Iterate through the variables names\n",
    "    for var in agg.columns.levels[0]:\n",
    "        # Skip the grouping variable\n",
    "        if var != group_var:\n",
    "            # Iterate through the stat names\n",
    "            for stat in agg.columns.levels[1][:-1]:\n",
    "                # Make a new column name for the variable and stat\n",
    "                columns.append('%s_%s_%s' % (df_name, var, stat))\n",
    "\n",
    "    agg.columns = columns\n",
    "    return agg"
   ]
  },
  {
   "cell_type": "code",
   "execution_count": 21,
   "id": "5c5a980a",
   "metadata": {},
   "outputs": [],
   "source": [
    "# calculate the counts and normalized counts of each category for all categorical variables in the dataframe.\n",
    "# very similar to numeric_aggregate\n",
    "## credit:https://www.kaggle.com/willkoehrsen/introduction-to-manual-feature-engineering\n",
    "\n",
    "def feature_engineering_categorical_variables(df, group_var, df_name):\n",
    "    \"\"\"Computes counts and normalized counts for each observation\n",
    "    of `group_var` of each unique category in every categorical variable\n",
    "    \n",
    "    Parameters\n",
    "    --------\n",
    "    df : dataframe \n",
    "        The dataframe to calculate the value counts for.\n",
    "        \n",
    "    group_var : string\n",
    "        The variable by which to group the dataframe. For each unique\n",
    "        value of this variable, the final dataframe will have one row\n",
    "        \n",
    "    df_name : string\n",
    "        Variable added to the front of column names to keep track of columns\n",
    "\n",
    "    \n",
    "    Return\n",
    "    --------\n",
    "    categorical : dataframe\n",
    "        A dataframe with counts and normalized counts of each unique category in every categorical variable\n",
    "        with one row for every unique value of the `group_var`.\n",
    "        \n",
    "    \"\"\"\n",
    "    \n",
    "    # Select the categorical columns\n",
    "    categorical = pd.get_dummies(df.select_dtypes('object'))\n",
    "\n",
    "    # Make sure to put the identifying id on the column\n",
    "    categorical[group_var] = df[group_var]\n",
    "\n",
    "    # Groupby the group var and calculate the sum and mean\n",
    "    categorical = categorical.groupby(group_var).agg(['sum', 'mean'])\n",
    "    \n",
    "    column_names = []\n",
    "    \n",
    "    # Iterate through the columns in level 0\n",
    "    for var in categorical.columns.levels[0]:\n",
    "        # Iterate through the stats in level 1\n",
    "        for stat in ['count', 'count_norm']:\n",
    "            # Make a new column name\n",
    "            column_names.append('%s_%s_%s' % (df_name, var, stat))\n",
    "    \n",
    "    categorical.columns = column_names\n",
    "    \n",
    "    return categorical"
   ]
  },
  {
   "cell_type": "code",
   "execution_count": 22,
   "id": "9dd1cabd",
   "metadata": {},
   "outputs": [
    {
     "name": "stdout",
     "output_type": "stream",
     "text": [
      "Memory usage of dataframe is 222.62 MB\n",
      "Memory usage after optimization is: 112.95 MB\n",
      "Decreased by 49.3%\n",
      "Number of data points :  1716428\n",
      "Number of features :  17\n"
     ]
    },
    {
     "data": {
      "text/html": [
       "<div>\n",
       "<style scoped>\n",
       "    .dataframe tbody tr th:only-of-type {\n",
       "        vertical-align: middle;\n",
       "    }\n",
       "\n",
       "    .dataframe tbody tr th {\n",
       "        vertical-align: top;\n",
       "    }\n",
       "\n",
       "    .dataframe thead th {\n",
       "        text-align: right;\n",
       "    }\n",
       "</style>\n",
       "<table border=\"1\" class=\"dataframe\">\n",
       "  <thead>\n",
       "    <tr style=\"text-align: right;\">\n",
       "      <th></th>\n",
       "      <th>SK_ID_CURR</th>\n",
       "      <th>SK_ID_BUREAU</th>\n",
       "      <th>CREDIT_ACTIVE</th>\n",
       "      <th>CREDIT_CURRENCY</th>\n",
       "      <th>DAYS_CREDIT</th>\n",
       "      <th>CREDIT_DAY_OVERDUE</th>\n",
       "      <th>DAYS_CREDIT_ENDDATE</th>\n",
       "      <th>DAYS_ENDDATE_FACT</th>\n",
       "      <th>AMT_CREDIT_MAX_OVERDUE</th>\n",
       "      <th>CNT_CREDIT_PROLONG</th>\n",
       "      <th>AMT_CREDIT_SUM</th>\n",
       "      <th>AMT_CREDIT_SUM_DEBT</th>\n",
       "      <th>AMT_CREDIT_SUM_LIMIT</th>\n",
       "      <th>AMT_CREDIT_SUM_OVERDUE</th>\n",
       "      <th>CREDIT_TYPE</th>\n",
       "      <th>DAYS_CREDIT_UPDATE</th>\n",
       "      <th>AMT_ANNUITY</th>\n",
       "    </tr>\n",
       "  </thead>\n",
       "  <tbody>\n",
       "    <tr>\n",
       "      <th>0</th>\n",
       "      <td>215354</td>\n",
       "      <td>5714462</td>\n",
       "      <td>Closed</td>\n",
       "      <td>currency 1</td>\n",
       "      <td>-497</td>\n",
       "      <td>0</td>\n",
       "      <td>-153.0</td>\n",
       "      <td>-153.0</td>\n",
       "      <td>NaN</td>\n",
       "      <td>0</td>\n",
       "      <td>91323.0</td>\n",
       "      <td>0.0</td>\n",
       "      <td>NaN</td>\n",
       "      <td>0.0</td>\n",
       "      <td>Consumer credit</td>\n",
       "      <td>-131</td>\n",
       "      <td>NaN</td>\n",
       "    </tr>\n",
       "  </tbody>\n",
       "</table>\n",
       "</div>"
      ],
      "text/plain": [
       "   SK_ID_CURR  SK_ID_BUREAU CREDIT_ACTIVE CREDIT_CURRENCY  DAYS_CREDIT  \\\n",
       "0      215354       5714462        Closed      currency 1         -497   \n",
       "\n",
       "   CREDIT_DAY_OVERDUE  DAYS_CREDIT_ENDDATE  DAYS_ENDDATE_FACT  \\\n",
       "0                   0               -153.0             -153.0   \n",
       "\n",
       "   AMT_CREDIT_MAX_OVERDUE  CNT_CREDIT_PROLONG  AMT_CREDIT_SUM  \\\n",
       "0                     NaN                   0         91323.0   \n",
       "\n",
       "   AMT_CREDIT_SUM_DEBT  AMT_CREDIT_SUM_LIMIT  AMT_CREDIT_SUM_OVERDUE  \\\n",
       "0                  0.0                   NaN                     0.0   \n",
       "\n",
       "       CREDIT_TYPE  DAYS_CREDIT_UPDATE  AMT_ANNUITY  \n",
       "0  Consumer credit                -131          NaN  "
      ]
     },
     "execution_count": 22,
     "metadata": {},
     "output_type": "execute_result"
    }
   ],
   "source": [
    "df_bureau = reduce_memory_usage(pd.read_csv('./data/bureau.csv', encoding= 'unicode_escape'))\n",
    "print('Number of data points : ', df_bureau.shape[0])\n",
    "print('Number of features : ', df_bureau.shape[1])\n",
    "df_bureau.head(1)"
   ]
  },
  {
   "cell_type": "code",
   "execution_count": 23,
   "id": "86b34709",
   "metadata": {},
   "outputs": [
    {
     "name": "stdout",
     "output_type": "stream",
     "text": [
      "Similar columns~~>['SK_ID_CURR', 'AMT_ANNUITY']\n"
     ]
    }
   ],
   "source": [
    "#Check bureau and train have similar columns. if so, rename bureau columns, except ID columns\n",
    "print('Similar columns~~>{}'.format(df_bureau.columns.intersection(df_train.columns).tolist()))"
   ]
  },
  {
   "cell_type": "code",
   "execution_count": 24,
   "id": "c51293a0",
   "metadata": {},
   "outputs": [],
   "source": [
    "df_bureau.rename(columns={\"AMT_ANNUITY\": \"BUREAU_AMT_ANNUITY\"}, inplace = True)"
   ]
  },
  {
   "cell_type": "code",
   "execution_count": 25,
   "id": "ab11b36c",
   "metadata": {
    "scrolled": true
   },
   "outputs": [
    {
     "name": "stdout",
     "output_type": "stream",
     "text": [
      "# of Numerical columns in Bureau~~> 14\n",
      "# of categorical columns in Bureau~~> 3\n"
     ]
    }
   ],
   "source": [
    "num_columns=df_bureau.select_dtypes(exclude=object).columns.to_list()\n",
    "print('# of Numerical columns in Bureau~~> {}'.format(len(num_columns)))\n",
    "\n",
    "cat_columns=df_bureau.select_dtypes(include=object).columns.to_list()\n",
    "print('# of categorical columns in Bureau~~> {}'.format(len(cat_columns)))\n",
    "cat_columns.append('SK_ID_CURR')"
   ]
  },
  {
   "cell_type": "code",
   "execution_count": 26,
   "id": "fca4cb6b",
   "metadata": {},
   "outputs": [
    {
     "data": {
      "text/plain": [
       "Index(['DAYS_CREDIT', 'CREDIT_DAY_OVERDUE', 'DAYS_CREDIT_ENDDATE',\n",
       "       'DAYS_ENDDATE_FACT', 'DAYS_CREDIT_UPDATE'],\n",
       "      dtype='object')"
      ]
     },
     "execution_count": 26,
     "metadata": {},
     "output_type": "execute_result"
    }
   ],
   "source": [
    "df_days_cols = df_bureau.loc[:, df_bureau.columns.str.contains('DAY')]\n",
    "df_days_cols.columns"
   ]
  },
  {
   "cell_type": "code",
   "execution_count": 27,
   "id": "697b0393",
   "metadata": {},
   "outputs": [
    {
     "name": "stdout",
     "output_type": "stream",
     "text": [
      "column DAYS_CREDIT min value -2922 and max valaue 0\n",
      "column CREDIT_DAY_OVERDUE min value 0 and max valaue 2792\n",
      "column DAYS_CREDIT_ENDDATE min value -42048.0 and max valaue 31200.0\n",
      "column DAYS_ENDDATE_FACT min value -42016.0 and max valaue 0.0\n",
      "column DAYS_CREDIT_UPDATE min value -41947 and max valaue 372\n"
     ]
    }
   ],
   "source": [
    "for col in df_days_cols:\n",
    "    print('column {} min value {} and max valaue {}'.format(col, df_days_cols[col].min(),df_days_cols[col].max()))"
   ]
  },
  {
   "cell_type": "code",
   "execution_count": 28,
   "id": "95fbc59e",
   "metadata": {},
   "outputs": [],
   "source": [
    "df_bureau['DAYS_CREDIT']=-df_bureau['DAYS_CREDIT']\n",
    "df_bureau['DAYS_ENDDATE_FACT']=-df_bureau['DAYS_ENDDATE_FACT']"
   ]
  },
  {
   "cell_type": "code",
   "execution_count": 29,
   "id": "b718d1e7",
   "metadata": {},
   "outputs": [],
   "source": [
    "# fill missing values\n",
    "df_bureau=fill_mostfrequent_value(df_bureau)\n",
    "df_bureau = fill_median_value(df_bureau)"
   ]
  },
  {
   "cell_type": "code",
   "execution_count": 30,
   "id": "04786a7d",
   "metadata": {},
   "outputs": [
    {
     "name": "stdout",
     "output_type": "stream",
     "text": [
      "0\n"
     ]
    }
   ],
   "source": [
    "print(df_bureau[df_bureau.isin([np.nan, np.inf, -np.inf]).any(1)].shape[0])"
   ]
  },
  {
   "cell_type": "code",
   "execution_count": 31,
   "id": "9a738c11",
   "metadata": {},
   "outputs": [
    {
     "data": {
      "text/html": [
       "<div>\n",
       "<style scoped>\n",
       "    .dataframe tbody tr th:only-of-type {\n",
       "        vertical-align: middle;\n",
       "    }\n",
       "\n",
       "    .dataframe tbody tr th {\n",
       "        vertical-align: top;\n",
       "    }\n",
       "\n",
       "    .dataframe thead th {\n",
       "        text-align: right;\n",
       "    }\n",
       "</style>\n",
       "<table border=\"1\" class=\"dataframe\">\n",
       "  <thead>\n",
       "    <tr style=\"text-align: right;\">\n",
       "      <th></th>\n",
       "      <th>SK_ID_CURR</th>\n",
       "      <th>bureau_DAYS_CREDIT_count</th>\n",
       "      <th>bureau_DAYS_CREDIT_mean</th>\n",
       "      <th>bureau_DAYS_CREDIT_max</th>\n",
       "      <th>bureau_DAYS_CREDIT_min</th>\n",
       "      <th>bureau_DAYS_CREDIT_sum</th>\n",
       "      <th>bureau_CREDIT_DAY_OVERDUE_count</th>\n",
       "      <th>bureau_CREDIT_DAY_OVERDUE_mean</th>\n",
       "      <th>bureau_CREDIT_DAY_OVERDUE_max</th>\n",
       "      <th>bureau_CREDIT_DAY_OVERDUE_min</th>\n",
       "      <th>bureau_CREDIT_DAY_OVERDUE_sum</th>\n",
       "      <th>bureau_DAYS_CREDIT_ENDDATE_count</th>\n",
       "      <th>bureau_DAYS_CREDIT_ENDDATE_mean</th>\n",
       "      <th>bureau_DAYS_CREDIT_ENDDATE_max</th>\n",
       "      <th>bureau_DAYS_CREDIT_ENDDATE_min</th>\n",
       "      <th>bureau_DAYS_CREDIT_ENDDATE_sum</th>\n",
       "      <th>bureau_DAYS_ENDDATE_FACT_count</th>\n",
       "      <th>bureau_DAYS_ENDDATE_FACT_mean</th>\n",
       "      <th>bureau_DAYS_ENDDATE_FACT_max</th>\n",
       "      <th>bureau_DAYS_ENDDATE_FACT_min</th>\n",
       "      <th>bureau_DAYS_ENDDATE_FACT_sum</th>\n",
       "      <th>bureau_AMT_CREDIT_MAX_OVERDUE_count</th>\n",
       "      <th>bureau_AMT_CREDIT_MAX_OVERDUE_mean</th>\n",
       "      <th>bureau_AMT_CREDIT_MAX_OVERDUE_max</th>\n",
       "      <th>bureau_AMT_CREDIT_MAX_OVERDUE_min</th>\n",
       "      <th>bureau_AMT_CREDIT_MAX_OVERDUE_sum</th>\n",
       "      <th>bureau_CNT_CREDIT_PROLONG_count</th>\n",
       "      <th>bureau_CNT_CREDIT_PROLONG_mean</th>\n",
       "      <th>bureau_CNT_CREDIT_PROLONG_max</th>\n",
       "      <th>bureau_CNT_CREDIT_PROLONG_min</th>\n",
       "      <th>bureau_CNT_CREDIT_PROLONG_sum</th>\n",
       "      <th>bureau_AMT_CREDIT_SUM_count</th>\n",
       "      <th>bureau_AMT_CREDIT_SUM_mean</th>\n",
       "      <th>bureau_AMT_CREDIT_SUM_max</th>\n",
       "      <th>bureau_AMT_CREDIT_SUM_min</th>\n",
       "      <th>bureau_AMT_CREDIT_SUM_sum</th>\n",
       "      <th>bureau_AMT_CREDIT_SUM_DEBT_count</th>\n",
       "      <th>bureau_AMT_CREDIT_SUM_DEBT_mean</th>\n",
       "      <th>bureau_AMT_CREDIT_SUM_DEBT_max</th>\n",
       "      <th>bureau_AMT_CREDIT_SUM_DEBT_min</th>\n",
       "      <th>bureau_AMT_CREDIT_SUM_DEBT_sum</th>\n",
       "      <th>bureau_AMT_CREDIT_SUM_LIMIT_count</th>\n",
       "      <th>bureau_AMT_CREDIT_SUM_LIMIT_mean</th>\n",
       "      <th>bureau_AMT_CREDIT_SUM_LIMIT_max</th>\n",
       "      <th>bureau_AMT_CREDIT_SUM_LIMIT_min</th>\n",
       "      <th>bureau_AMT_CREDIT_SUM_LIMIT_sum</th>\n",
       "      <th>bureau_AMT_CREDIT_SUM_OVERDUE_count</th>\n",
       "      <th>bureau_AMT_CREDIT_SUM_OVERDUE_mean</th>\n",
       "      <th>bureau_AMT_CREDIT_SUM_OVERDUE_max</th>\n",
       "      <th>bureau_AMT_CREDIT_SUM_OVERDUE_min</th>\n",
       "      <th>bureau_AMT_CREDIT_SUM_OVERDUE_sum</th>\n",
       "      <th>bureau_DAYS_CREDIT_UPDATE_count</th>\n",
       "      <th>bureau_DAYS_CREDIT_UPDATE_mean</th>\n",
       "      <th>bureau_DAYS_CREDIT_UPDATE_max</th>\n",
       "      <th>bureau_DAYS_CREDIT_UPDATE_min</th>\n",
       "      <th>bureau_DAYS_CREDIT_UPDATE_sum</th>\n",
       "      <th>bureau_BUREAU_AMT_ANNUITY_count</th>\n",
       "      <th>bureau_BUREAU_AMT_ANNUITY_mean</th>\n",
       "      <th>bureau_BUREAU_AMT_ANNUITY_max</th>\n",
       "      <th>bureau_BUREAU_AMT_ANNUITY_min</th>\n",
       "      <th>bureau_BUREAU_AMT_ANNUITY_sum</th>\n",
       "    </tr>\n",
       "  </thead>\n",
       "  <tbody>\n",
       "    <tr>\n",
       "      <th>0</th>\n",
       "      <td>100001</td>\n",
       "      <td>7</td>\n",
       "      <td>735.0</td>\n",
       "      <td>1572</td>\n",
       "      <td>49</td>\n",
       "      <td>5145.0</td>\n",
       "      <td>7</td>\n",
       "      <td>0.0</td>\n",
       "      <td>0</td>\n",
       "      <td>0</td>\n",
       "      <td>0</td>\n",
       "      <td>7</td>\n",
       "      <td>82.4375</td>\n",
       "      <td>1778.0</td>\n",
       "      <td>-1329.0</td>\n",
       "      <td>577.0</td>\n",
       "      <td>7</td>\n",
       "      <td>856.0</td>\n",
       "      <td>1328.0</td>\n",
       "      <td>544.0</td>\n",
       "      <td>5992.0</td>\n",
       "      <td>7</td>\n",
       "      <td>0.0</td>\n",
       "      <td>0.0</td>\n",
       "      <td>0.0</td>\n",
       "      <td>0.0</td>\n",
       "      <td>7</td>\n",
       "      <td>0.0</td>\n",
       "      <td>0</td>\n",
       "      <td>0</td>\n",
       "      <td>0</td>\n",
       "      <td>7</td>\n",
       "      <td>207623.578125</td>\n",
       "      <td>378000.0</td>\n",
       "      <td>85500.0</td>\n",
       "      <td>1453365.0</td>\n",
       "      <td>7</td>\n",
       "      <td>85240.929688</td>\n",
       "      <td>373239.0</td>\n",
       "      <td>0.0</td>\n",
       "      <td>596686.5</td>\n",
       "      <td>7</td>\n",
       "      <td>0.0</td>\n",
       "      <td>0.0</td>\n",
       "      <td>0.0</td>\n",
       "      <td>0.0</td>\n",
       "      <td>7</td>\n",
       "      <td>0.0</td>\n",
       "      <td>0.0</td>\n",
       "      <td>0.0</td>\n",
       "      <td>0.0</td>\n",
       "      <td>7</td>\n",
       "      <td>-93.142857</td>\n",
       "      <td>-6</td>\n",
       "      <td>-155</td>\n",
       "      <td>-652</td>\n",
       "      <td>7</td>\n",
       "      <td>3545.357178</td>\n",
       "      <td>10822.5</td>\n",
       "      <td>0.0</td>\n",
       "      <td>24817.5</td>\n",
       "    </tr>\n",
       "  </tbody>\n",
       "</table>\n",
       "</div>"
      ],
      "text/plain": [
       "   SK_ID_CURR  bureau_DAYS_CREDIT_count  bureau_DAYS_CREDIT_mean  \\\n",
       "0      100001                         7                    735.0   \n",
       "\n",
       "   bureau_DAYS_CREDIT_max  bureau_DAYS_CREDIT_min  bureau_DAYS_CREDIT_sum  \\\n",
       "0                    1572                      49                  5145.0   \n",
       "\n",
       "   bureau_CREDIT_DAY_OVERDUE_count  bureau_CREDIT_DAY_OVERDUE_mean  \\\n",
       "0                                7                             0.0   \n",
       "\n",
       "   bureau_CREDIT_DAY_OVERDUE_max  bureau_CREDIT_DAY_OVERDUE_min  \\\n",
       "0                              0                              0   \n",
       "\n",
       "   bureau_CREDIT_DAY_OVERDUE_sum  bureau_DAYS_CREDIT_ENDDATE_count  \\\n",
       "0                              0                                 7   \n",
       "\n",
       "   bureau_DAYS_CREDIT_ENDDATE_mean  bureau_DAYS_CREDIT_ENDDATE_max  \\\n",
       "0                          82.4375                          1778.0   \n",
       "\n",
       "   bureau_DAYS_CREDIT_ENDDATE_min  bureau_DAYS_CREDIT_ENDDATE_sum  \\\n",
       "0                         -1329.0                           577.0   \n",
       "\n",
       "   bureau_DAYS_ENDDATE_FACT_count  bureau_DAYS_ENDDATE_FACT_mean  \\\n",
       "0                               7                          856.0   \n",
       "\n",
       "   bureau_DAYS_ENDDATE_FACT_max  bureau_DAYS_ENDDATE_FACT_min  \\\n",
       "0                        1328.0                         544.0   \n",
       "\n",
       "   bureau_DAYS_ENDDATE_FACT_sum  bureau_AMT_CREDIT_MAX_OVERDUE_count  \\\n",
       "0                        5992.0                                    7   \n",
       "\n",
       "   bureau_AMT_CREDIT_MAX_OVERDUE_mean  bureau_AMT_CREDIT_MAX_OVERDUE_max  \\\n",
       "0                                 0.0                                0.0   \n",
       "\n",
       "   bureau_AMT_CREDIT_MAX_OVERDUE_min  bureau_AMT_CREDIT_MAX_OVERDUE_sum  \\\n",
       "0                                0.0                                0.0   \n",
       "\n",
       "   bureau_CNT_CREDIT_PROLONG_count  bureau_CNT_CREDIT_PROLONG_mean  \\\n",
       "0                                7                             0.0   \n",
       "\n",
       "   bureau_CNT_CREDIT_PROLONG_max  bureau_CNT_CREDIT_PROLONG_min  \\\n",
       "0                              0                              0   \n",
       "\n",
       "   bureau_CNT_CREDIT_PROLONG_sum  bureau_AMT_CREDIT_SUM_count  \\\n",
       "0                              0                            7   \n",
       "\n",
       "   bureau_AMT_CREDIT_SUM_mean  bureau_AMT_CREDIT_SUM_max  \\\n",
       "0               207623.578125                   378000.0   \n",
       "\n",
       "   bureau_AMT_CREDIT_SUM_min  bureau_AMT_CREDIT_SUM_sum  \\\n",
       "0                    85500.0                  1453365.0   \n",
       "\n",
       "   bureau_AMT_CREDIT_SUM_DEBT_count  bureau_AMT_CREDIT_SUM_DEBT_mean  \\\n",
       "0                                 7                     85240.929688   \n",
       "\n",
       "   bureau_AMT_CREDIT_SUM_DEBT_max  bureau_AMT_CREDIT_SUM_DEBT_min  \\\n",
       "0                        373239.0                             0.0   \n",
       "\n",
       "   bureau_AMT_CREDIT_SUM_DEBT_sum  bureau_AMT_CREDIT_SUM_LIMIT_count  \\\n",
       "0                        596686.5                                  7   \n",
       "\n",
       "   bureau_AMT_CREDIT_SUM_LIMIT_mean  bureau_AMT_CREDIT_SUM_LIMIT_max  \\\n",
       "0                               0.0                              0.0   \n",
       "\n",
       "   bureau_AMT_CREDIT_SUM_LIMIT_min  bureau_AMT_CREDIT_SUM_LIMIT_sum  \\\n",
       "0                              0.0                              0.0   \n",
       "\n",
       "   bureau_AMT_CREDIT_SUM_OVERDUE_count  bureau_AMT_CREDIT_SUM_OVERDUE_mean  \\\n",
       "0                                    7                                 0.0   \n",
       "\n",
       "   bureau_AMT_CREDIT_SUM_OVERDUE_max  bureau_AMT_CREDIT_SUM_OVERDUE_min  \\\n",
       "0                                0.0                                0.0   \n",
       "\n",
       "   bureau_AMT_CREDIT_SUM_OVERDUE_sum  bureau_DAYS_CREDIT_UPDATE_count  \\\n",
       "0                                0.0                                7   \n",
       "\n",
       "   bureau_DAYS_CREDIT_UPDATE_mean  bureau_DAYS_CREDIT_UPDATE_max  \\\n",
       "0                      -93.142857                             -6   \n",
       "\n",
       "   bureau_DAYS_CREDIT_UPDATE_min  bureau_DAYS_CREDIT_UPDATE_sum  \\\n",
       "0                           -155                           -652   \n",
       "\n",
       "   bureau_BUREAU_AMT_ANNUITY_count  bureau_BUREAU_AMT_ANNUITY_mean  \\\n",
       "0                                7                     3545.357178   \n",
       "\n",
       "   bureau_BUREAU_AMT_ANNUITY_max  bureau_BUREAU_AMT_ANNUITY_min  \\\n",
       "0                        10822.5                            0.0   \n",
       "\n",
       "   bureau_BUREAU_AMT_ANNUITY_sum  \n",
       "0                        24817.5  "
      ]
     },
     "execution_count": 31,
     "metadata": {},
     "output_type": "execute_result"
    }
   ],
   "source": [
    "# Group by the applicant id, calculate aggregation statistics\n",
    "df_bureau_agg = numeric_aggregate(df_bureau.drop(columns = ['SK_ID_BUREAU']),group_var = 'SK_ID_CURR', df_name = 'bureau')\n",
    "df_bureau_agg.head(1)"
   ]
  },
  {
   "cell_type": "code",
   "execution_count": 32,
   "id": "c9fe68b1",
   "metadata": {
    "scrolled": false
   },
   "outputs": [
    {
     "data": {
      "text/html": [
       "<div>\n",
       "<style scoped>\n",
       "    .dataframe tbody tr th:only-of-type {\n",
       "        vertical-align: middle;\n",
       "    }\n",
       "\n",
       "    .dataframe tbody tr th {\n",
       "        vertical-align: top;\n",
       "    }\n",
       "\n",
       "    .dataframe thead th {\n",
       "        text-align: right;\n",
       "    }\n",
       "</style>\n",
       "<table border=\"1\" class=\"dataframe\">\n",
       "  <thead>\n",
       "    <tr style=\"text-align: right;\">\n",
       "      <th></th>\n",
       "      <th>bureau_CREDIT_ACTIVE_Active_count</th>\n",
       "      <th>bureau_CREDIT_ACTIVE_Active_count_norm</th>\n",
       "      <th>bureau_CREDIT_ACTIVE_Bad debt_count</th>\n",
       "      <th>bureau_CREDIT_ACTIVE_Bad debt_count_norm</th>\n",
       "      <th>bureau_CREDIT_ACTIVE_Closed_count</th>\n",
       "      <th>bureau_CREDIT_ACTIVE_Closed_count_norm</th>\n",
       "      <th>bureau_CREDIT_ACTIVE_Sold_count</th>\n",
       "      <th>bureau_CREDIT_ACTIVE_Sold_count_norm</th>\n",
       "      <th>bureau_CREDIT_CURRENCY_currency 1_count</th>\n",
       "      <th>bureau_CREDIT_CURRENCY_currency 1_count_norm</th>\n",
       "      <th>bureau_CREDIT_CURRENCY_currency 2_count</th>\n",
       "      <th>bureau_CREDIT_CURRENCY_currency 2_count_norm</th>\n",
       "      <th>bureau_CREDIT_CURRENCY_currency 3_count</th>\n",
       "      <th>bureau_CREDIT_CURRENCY_currency 3_count_norm</th>\n",
       "      <th>bureau_CREDIT_CURRENCY_currency 4_count</th>\n",
       "      <th>bureau_CREDIT_CURRENCY_currency 4_count_norm</th>\n",
       "      <th>bureau_CREDIT_TYPE_Another type of loan_count</th>\n",
       "      <th>bureau_CREDIT_TYPE_Another type of loan_count_norm</th>\n",
       "      <th>bureau_CREDIT_TYPE_Car loan_count</th>\n",
       "      <th>bureau_CREDIT_TYPE_Car loan_count_norm</th>\n",
       "      <th>bureau_CREDIT_TYPE_Cash loan (non-earmarked)_count</th>\n",
       "      <th>bureau_CREDIT_TYPE_Cash loan (non-earmarked)_count_norm</th>\n",
       "      <th>bureau_CREDIT_TYPE_Consumer credit_count</th>\n",
       "      <th>bureau_CREDIT_TYPE_Consumer credit_count_norm</th>\n",
       "      <th>bureau_CREDIT_TYPE_Credit card_count</th>\n",
       "      <th>bureau_CREDIT_TYPE_Credit card_count_norm</th>\n",
       "      <th>bureau_CREDIT_TYPE_Interbank credit_count</th>\n",
       "      <th>bureau_CREDIT_TYPE_Interbank credit_count_norm</th>\n",
       "      <th>bureau_CREDIT_TYPE_Loan for business development_count</th>\n",
       "      <th>bureau_CREDIT_TYPE_Loan for business development_count_norm</th>\n",
       "      <th>bureau_CREDIT_TYPE_Loan for purchase of shares (margin lending)_count</th>\n",
       "      <th>bureau_CREDIT_TYPE_Loan for purchase of shares (margin lending)_count_norm</th>\n",
       "      <th>bureau_CREDIT_TYPE_Loan for the purchase of equipment_count</th>\n",
       "      <th>bureau_CREDIT_TYPE_Loan for the purchase of equipment_count_norm</th>\n",
       "      <th>bureau_CREDIT_TYPE_Loan for working capital replenishment_count</th>\n",
       "      <th>bureau_CREDIT_TYPE_Loan for working capital replenishment_count_norm</th>\n",
       "      <th>bureau_CREDIT_TYPE_Microloan_count</th>\n",
       "      <th>bureau_CREDIT_TYPE_Microloan_count_norm</th>\n",
       "      <th>bureau_CREDIT_TYPE_Mobile operator loan_count</th>\n",
       "      <th>bureau_CREDIT_TYPE_Mobile operator loan_count_norm</th>\n",
       "      <th>bureau_CREDIT_TYPE_Mortgage_count</th>\n",
       "      <th>bureau_CREDIT_TYPE_Mortgage_count_norm</th>\n",
       "      <th>bureau_CREDIT_TYPE_Real estate loan_count</th>\n",
       "      <th>bureau_CREDIT_TYPE_Real estate loan_count_norm</th>\n",
       "      <th>bureau_CREDIT_TYPE_Unknown type of loan_count</th>\n",
       "      <th>bureau_CREDIT_TYPE_Unknown type of loan_count_norm</th>\n",
       "    </tr>\n",
       "    <tr>\n",
       "      <th>SK_ID_CURR</th>\n",
       "      <th></th>\n",
       "      <th></th>\n",
       "      <th></th>\n",
       "      <th></th>\n",
       "      <th></th>\n",
       "      <th></th>\n",
       "      <th></th>\n",
       "      <th></th>\n",
       "      <th></th>\n",
       "      <th></th>\n",
       "      <th></th>\n",
       "      <th></th>\n",
       "      <th></th>\n",
       "      <th></th>\n",
       "      <th></th>\n",
       "      <th></th>\n",
       "      <th></th>\n",
       "      <th></th>\n",
       "      <th></th>\n",
       "      <th></th>\n",
       "      <th></th>\n",
       "      <th></th>\n",
       "      <th></th>\n",
       "      <th></th>\n",
       "      <th></th>\n",
       "      <th></th>\n",
       "      <th></th>\n",
       "      <th></th>\n",
       "      <th></th>\n",
       "      <th></th>\n",
       "      <th></th>\n",
       "      <th></th>\n",
       "      <th></th>\n",
       "      <th></th>\n",
       "      <th></th>\n",
       "      <th></th>\n",
       "      <th></th>\n",
       "      <th></th>\n",
       "      <th></th>\n",
       "      <th></th>\n",
       "      <th></th>\n",
       "      <th></th>\n",
       "      <th></th>\n",
       "      <th></th>\n",
       "      <th></th>\n",
       "      <th></th>\n",
       "    </tr>\n",
       "  </thead>\n",
       "  <tbody>\n",
       "    <tr>\n",
       "      <th>100001</th>\n",
       "      <td>3</td>\n",
       "      <td>0.428571</td>\n",
       "      <td>0</td>\n",
       "      <td>0.0</td>\n",
       "      <td>4</td>\n",
       "      <td>0.571429</td>\n",
       "      <td>0</td>\n",
       "      <td>0.0</td>\n",
       "      <td>7</td>\n",
       "      <td>1.0</td>\n",
       "      <td>0</td>\n",
       "      <td>0.0</td>\n",
       "      <td>0</td>\n",
       "      <td>0.0</td>\n",
       "      <td>0</td>\n",
       "      <td>0.0</td>\n",
       "      <td>0</td>\n",
       "      <td>0.0</td>\n",
       "      <td>0</td>\n",
       "      <td>0.0</td>\n",
       "      <td>0</td>\n",
       "      <td>0.0</td>\n",
       "      <td>7</td>\n",
       "      <td>1.0</td>\n",
       "      <td>0</td>\n",
       "      <td>0.0</td>\n",
       "      <td>0</td>\n",
       "      <td>0.0</td>\n",
       "      <td>0</td>\n",
       "      <td>0.0</td>\n",
       "      <td>0</td>\n",
       "      <td>0.0</td>\n",
       "      <td>0</td>\n",
       "      <td>0.0</td>\n",
       "      <td>0</td>\n",
       "      <td>0.0</td>\n",
       "      <td>0</td>\n",
       "      <td>0.0</td>\n",
       "      <td>0</td>\n",
       "      <td>0.0</td>\n",
       "      <td>0</td>\n",
       "      <td>0.0</td>\n",
       "      <td>0</td>\n",
       "      <td>0.0</td>\n",
       "      <td>0</td>\n",
       "      <td>0.0</td>\n",
       "    </tr>\n",
       "  </tbody>\n",
       "</table>\n",
       "</div>"
      ],
      "text/plain": [
       "            bureau_CREDIT_ACTIVE_Active_count  \\\n",
       "SK_ID_CURR                                      \n",
       "100001                                      3   \n",
       "\n",
       "            bureau_CREDIT_ACTIVE_Active_count_norm  \\\n",
       "SK_ID_CURR                                           \n",
       "100001                                    0.428571   \n",
       "\n",
       "            bureau_CREDIT_ACTIVE_Bad debt_count  \\\n",
       "SK_ID_CURR                                        \n",
       "100001                                        0   \n",
       "\n",
       "            bureau_CREDIT_ACTIVE_Bad debt_count_norm  \\\n",
       "SK_ID_CURR                                             \n",
       "100001                                           0.0   \n",
       "\n",
       "            bureau_CREDIT_ACTIVE_Closed_count  \\\n",
       "SK_ID_CURR                                      \n",
       "100001                                      4   \n",
       "\n",
       "            bureau_CREDIT_ACTIVE_Closed_count_norm  \\\n",
       "SK_ID_CURR                                           \n",
       "100001                                    0.571429   \n",
       "\n",
       "            bureau_CREDIT_ACTIVE_Sold_count  \\\n",
       "SK_ID_CURR                                    \n",
       "100001                                    0   \n",
       "\n",
       "            bureau_CREDIT_ACTIVE_Sold_count_norm  \\\n",
       "SK_ID_CURR                                         \n",
       "100001                                       0.0   \n",
       "\n",
       "            bureau_CREDIT_CURRENCY_currency 1_count  \\\n",
       "SK_ID_CURR                                            \n",
       "100001                                            7   \n",
       "\n",
       "            bureau_CREDIT_CURRENCY_currency 1_count_norm  \\\n",
       "SK_ID_CURR                                                 \n",
       "100001                                               1.0   \n",
       "\n",
       "            bureau_CREDIT_CURRENCY_currency 2_count  \\\n",
       "SK_ID_CURR                                            \n",
       "100001                                            0   \n",
       "\n",
       "            bureau_CREDIT_CURRENCY_currency 2_count_norm  \\\n",
       "SK_ID_CURR                                                 \n",
       "100001                                               0.0   \n",
       "\n",
       "            bureau_CREDIT_CURRENCY_currency 3_count  \\\n",
       "SK_ID_CURR                                            \n",
       "100001                                            0   \n",
       "\n",
       "            bureau_CREDIT_CURRENCY_currency 3_count_norm  \\\n",
       "SK_ID_CURR                                                 \n",
       "100001                                               0.0   \n",
       "\n",
       "            bureau_CREDIT_CURRENCY_currency 4_count  \\\n",
       "SK_ID_CURR                                            \n",
       "100001                                            0   \n",
       "\n",
       "            bureau_CREDIT_CURRENCY_currency 4_count_norm  \\\n",
       "SK_ID_CURR                                                 \n",
       "100001                                               0.0   \n",
       "\n",
       "            bureau_CREDIT_TYPE_Another type of loan_count  \\\n",
       "SK_ID_CURR                                                  \n",
       "100001                                                  0   \n",
       "\n",
       "            bureau_CREDIT_TYPE_Another type of loan_count_norm  \\\n",
       "SK_ID_CURR                                                       \n",
       "100001                                                    0.0    \n",
       "\n",
       "            bureau_CREDIT_TYPE_Car loan_count  \\\n",
       "SK_ID_CURR                                      \n",
       "100001                                      0   \n",
       "\n",
       "            bureau_CREDIT_TYPE_Car loan_count_norm  \\\n",
       "SK_ID_CURR                                           \n",
       "100001                                         0.0   \n",
       "\n",
       "            bureau_CREDIT_TYPE_Cash loan (non-earmarked)_count  \\\n",
       "SK_ID_CURR                                                       \n",
       "100001                                                      0    \n",
       "\n",
       "            bureau_CREDIT_TYPE_Cash loan (non-earmarked)_count_norm  \\\n",
       "SK_ID_CURR                                                            \n",
       "100001                                                    0.0         \n",
       "\n",
       "            bureau_CREDIT_TYPE_Consumer credit_count  \\\n",
       "SK_ID_CURR                                             \n",
       "100001                                             7   \n",
       "\n",
       "            bureau_CREDIT_TYPE_Consumer credit_count_norm  \\\n",
       "SK_ID_CURR                                                  \n",
       "100001                                                1.0   \n",
       "\n",
       "            bureau_CREDIT_TYPE_Credit card_count  \\\n",
       "SK_ID_CURR                                         \n",
       "100001                                         0   \n",
       "\n",
       "            bureau_CREDIT_TYPE_Credit card_count_norm  \\\n",
       "SK_ID_CURR                                              \n",
       "100001                                            0.0   \n",
       "\n",
       "            bureau_CREDIT_TYPE_Interbank credit_count  \\\n",
       "SK_ID_CURR                                              \n",
       "100001                                              0   \n",
       "\n",
       "            bureau_CREDIT_TYPE_Interbank credit_count_norm  \\\n",
       "SK_ID_CURR                                                   \n",
       "100001                                                 0.0   \n",
       "\n",
       "            bureau_CREDIT_TYPE_Loan for business development_count  \\\n",
       "SK_ID_CURR                                                           \n",
       "100001                                                      0        \n",
       "\n",
       "            bureau_CREDIT_TYPE_Loan for business development_count_norm  \\\n",
       "SK_ID_CURR                                                                \n",
       "100001                                                    0.0             \n",
       "\n",
       "            bureau_CREDIT_TYPE_Loan for purchase of shares (margin lending)_count  \\\n",
       "SK_ID_CURR                                                                          \n",
       "100001                                                      0                       \n",
       "\n",
       "            bureau_CREDIT_TYPE_Loan for purchase of shares (margin lending)_count_norm  \\\n",
       "SK_ID_CURR                                                                               \n",
       "100001                                                    0.0                            \n",
       "\n",
       "            bureau_CREDIT_TYPE_Loan for the purchase of equipment_count  \\\n",
       "SK_ID_CURR                                                                \n",
       "100001                                                      0             \n",
       "\n",
       "            bureau_CREDIT_TYPE_Loan for the purchase of equipment_count_norm  \\\n",
       "SK_ID_CURR                                                                     \n",
       "100001                                                    0.0                  \n",
       "\n",
       "            bureau_CREDIT_TYPE_Loan for working capital replenishment_count  \\\n",
       "SK_ID_CURR                                                                    \n",
       "100001                                                      0                 \n",
       "\n",
       "            bureau_CREDIT_TYPE_Loan for working capital replenishment_count_norm  \\\n",
       "SK_ID_CURR                                                                         \n",
       "100001                                                    0.0                      \n",
       "\n",
       "            bureau_CREDIT_TYPE_Microloan_count  \\\n",
       "SK_ID_CURR                                       \n",
       "100001                                       0   \n",
       "\n",
       "            bureau_CREDIT_TYPE_Microloan_count_norm  \\\n",
       "SK_ID_CURR                                            \n",
       "100001                                          0.0   \n",
       "\n",
       "            bureau_CREDIT_TYPE_Mobile operator loan_count  \\\n",
       "SK_ID_CURR                                                  \n",
       "100001                                                  0   \n",
       "\n",
       "            bureau_CREDIT_TYPE_Mobile operator loan_count_norm  \\\n",
       "SK_ID_CURR                                                       \n",
       "100001                                                    0.0    \n",
       "\n",
       "            bureau_CREDIT_TYPE_Mortgage_count  \\\n",
       "SK_ID_CURR                                      \n",
       "100001                                      0   \n",
       "\n",
       "            bureau_CREDIT_TYPE_Mortgage_count_norm  \\\n",
       "SK_ID_CURR                                           \n",
       "100001                                         0.0   \n",
       "\n",
       "            bureau_CREDIT_TYPE_Real estate loan_count  \\\n",
       "SK_ID_CURR                                              \n",
       "100001                                              0   \n",
       "\n",
       "            bureau_CREDIT_TYPE_Real estate loan_count_norm  \\\n",
       "SK_ID_CURR                                                   \n",
       "100001                                                 0.0   \n",
       "\n",
       "            bureau_CREDIT_TYPE_Unknown type of loan_count  \\\n",
       "SK_ID_CURR                                                  \n",
       "100001                                                  0   \n",
       "\n",
       "            bureau_CREDIT_TYPE_Unknown type of loan_count_norm  \n",
       "SK_ID_CURR                                                      \n",
       "100001                                                    0.0   "
      ]
     },
     "execution_count": 32,
     "metadata": {},
     "output_type": "execute_result"
    }
   ],
   "source": [
    "df_bureau_categorical = feature_engineering_categorical_variables(df=df_bureau, group_var = 'SK_ID_CURR', df_name = 'bureau')\n",
    "df_bureau_categorical.head(1)"
   ]
  },
  {
   "cell_type": "code",
   "execution_count": 33,
   "id": "9068e351",
   "metadata": {},
   "outputs": [],
   "source": [
    "df_bureau_agg.replace([np.inf, -np.inf,np.NaN], 0, inplace=True)"
   ]
  },
  {
   "cell_type": "code",
   "execution_count": 34,
   "id": "df0fa71a",
   "metadata": {},
   "outputs": [
    {
     "name": "stdout",
     "output_type": "stream",
     "text": [
      "0\n",
      "0\n"
     ]
    }
   ],
   "source": [
    "print(df_bureau_agg[df_bureau_agg.isin([np.nan, np.inf, -np.inf]).any(1)].shape[0])\n",
    "#before imputing, replace infinite values with np.nan values. Inputer will update with median values\n",
    "print(df_bureau_categorical[df_bureau_categorical.isin([np.nan, np.inf, -np.inf]).any(1)].shape[0])"
   ]
  },
  {
   "cell_type": "code",
   "execution_count": 35,
   "id": "9262048d",
   "metadata": {},
   "outputs": [],
   "source": [
    "#merge df_bureau categorical columns with train since it is multiple take the 1 record per I\n",
    "df_bureau_categorical_group =df_bureau[cat_columns].groupby('SK_ID_CURR').head(1).reset_index(drop=True)\n",
    "df_train=df_train.merge(df_bureau_categorical_group,on='SK_ID_CURR', how='left' )"
   ]
  },
  {
   "cell_type": "code",
   "execution_count": 36,
   "id": "a7aa4812",
   "metadata": {},
   "outputs": [
    {
     "name": "stdout",
     "output_type": "stream",
     "text": [
      "Number of data points :  307511\n",
      "Number of features :  199\n"
     ]
    }
   ],
   "source": [
    "# Merge bureau numerical aggregation with the training data\n",
    "df_train = df_train.merge(df_bureau_agg, on = 'SK_ID_CURR', how = 'left')\n",
    "# Merge bureau categorical numerical data with the training data\n",
    "df_train = df_train.merge(df_bureau_categorical, on = 'SK_ID_CURR', how = 'left')\n",
    "#df_train = reduce_memory_usage(df_train)\n",
    "print('Number of data points : ', df_train.shape[0])\n",
    "print('Number of features : ', df_train.shape[1])"
   ]
  },
  {
   "cell_type": "code",
   "execution_count": 37,
   "id": "cdc0c241",
   "metadata": {},
   "outputs": [],
   "source": [
    "#check if any records with nan or inf value before \n",
    "#zero means no inf, nan values\n",
    "df_train.replace([np.inf, -np.inf,np.NaN], 0, inplace=True)\n",
    "#df_train[df_train.isin([np.nan, np.inf, -np.inf]).any(1)].shape[0]"
   ]
  },
  {
   "cell_type": "markdown",
   "id": "ce9648d4",
   "metadata": {},
   "source": [
    "#### Bureau Balance dataset"
   ]
  },
  {
   "cell_type": "code",
   "execution_count": 38,
   "id": "31022de6",
   "metadata": {
    "scrolled": true
   },
   "outputs": [
    {
     "name": "stdout",
     "output_type": "stream",
     "text": [
      "Memory usage of dataframe is 624.85 MB\n",
      "Memory usage after optimization is: 338.46 MB\n",
      "Decreased by 45.8%\n",
      "Number of data points :  27299925\n",
      "Number of features :  3\n"
     ]
    },
    {
     "data": {
      "text/html": [
       "<div>\n",
       "<style scoped>\n",
       "    .dataframe tbody tr th:only-of-type {\n",
       "        vertical-align: middle;\n",
       "    }\n",
       "\n",
       "    .dataframe tbody tr th {\n",
       "        vertical-align: top;\n",
       "    }\n",
       "\n",
       "    .dataframe thead th {\n",
       "        text-align: right;\n",
       "    }\n",
       "</style>\n",
       "<table border=\"1\" class=\"dataframe\">\n",
       "  <thead>\n",
       "    <tr style=\"text-align: right;\">\n",
       "      <th></th>\n",
       "      <th>SK_ID_BUREAU</th>\n",
       "      <th>MONTHS_BALANCE</th>\n",
       "      <th>STATUS</th>\n",
       "    </tr>\n",
       "  </thead>\n",
       "  <tbody>\n",
       "    <tr>\n",
       "      <th>0</th>\n",
       "      <td>5715448</td>\n",
       "      <td>0</td>\n",
       "      <td>C</td>\n",
       "    </tr>\n",
       "  </tbody>\n",
       "</table>\n",
       "</div>"
      ],
      "text/plain": [
       "   SK_ID_BUREAU  MONTHS_BALANCE STATUS\n",
       "0       5715448               0      C"
      ]
     },
     "execution_count": 38,
     "metadata": {},
     "output_type": "execute_result"
    }
   ],
   "source": [
    "df_bureau_balance =  reduce_memory_usage(pd.read_csv('./data/bureau_balance.csv', encoding= 'unicode_escape'))\n",
    "print('Number of data points : ', df_bureau_balance.shape[0])\n",
    "print('Number of features : ', df_bureau_balance.shape[1])\n",
    "df_bureau_balance.head(1)"
   ]
  },
  {
   "cell_type": "code",
   "execution_count": 39,
   "id": "f5fe5022",
   "metadata": {},
   "outputs": [],
   "source": [
    "#since the bureau balance STATUS has one letter, and have multiple status per SK_ID_CURR, \n",
    "#it is hard to merge at the SK_ID_CURR. it is better to ignore / don't merge with train dataset\n",
    "#will add Status based categorical numerical addition"
   ]
  },
  {
   "cell_type": "code",
   "execution_count": 40,
   "id": "6b93c360",
   "metadata": {},
   "outputs": [
    {
     "name": "stdout",
     "output_type": "stream",
     "text": [
      "# of Numerical columns in Bureau Balance~~> 2\n",
      "# of categorical columns in Bureau Balance~~> 1\n"
     ]
    }
   ],
   "source": [
    "num_columns=df_bureau_balance.select_dtypes(exclude=object).columns.to_list()\n",
    "print('# of Numerical columns in Bureau Balance~~> {}'.format(len(num_columns)))\n",
    "\n",
    "cat_columns=df_bureau_balance.select_dtypes(include=object).columns.to_list()\n",
    "print('# of categorical columns in Bureau Balance~~> {}'.format(len(cat_columns)))\n",
    "cat_columns.append('SK_ID_CURR')"
   ]
  },
  {
   "cell_type": "code",
   "execution_count": 41,
   "id": "cf52e59a",
   "metadata": {},
   "outputs": [
    {
     "name": "stdout",
     "output_type": "stream",
     "text": [
      "column MONTHS_BALANCE min value -96 and max valaue 0\n"
     ]
    }
   ],
   "source": [
    "df_days_cols = df_bureau_balance.loc[:, df_bureau_balance.columns.str.contains('BALANCE')]\n",
    "df_days_cols.columns\n",
    "for col in df_days_cols:\n",
    "    print('column {} min value {} and max valaue {}'.format(col, df_days_cols[col].min(),df_days_cols[col].max()))"
   ]
  },
  {
   "cell_type": "code",
   "execution_count": 42,
   "id": "3218eb84",
   "metadata": {},
   "outputs": [],
   "source": [
    "#since overdue doesn't have negative values, convert them into positive\n",
    "df_bureau_balance['MONTHS_BALANCE'] = -df_bureau_balance['MONTHS_BALANCE']"
   ]
  },
  {
   "cell_type": "code",
   "execution_count": 43,
   "id": "5170ec1b",
   "metadata": {},
   "outputs": [
    {
     "name": "stdout",
     "output_type": "stream",
     "text": [
      "Similar columns~~>[]\n",
      "Similar columns~~>['SK_ID_BUREAU']\n"
     ]
    }
   ],
   "source": [
    "#Check bureau and train have similar columns. if so, rename bureau columns, except ID columns\n",
    "print('Similar columns~~>{}'.format(df_bureau_balance.columns.intersection(df_train.columns).tolist()))\n",
    "#Check bureau and bureau have similar columns. if so, rename bureau columns, except ID columns\n",
    "print('Similar columns~~>{}'.format(df_bureau_balance.columns.intersection(df_bureau.columns).tolist()))"
   ]
  },
  {
   "cell_type": "code",
   "execution_count": 44,
   "id": "944f88e4",
   "metadata": {},
   "outputs": [],
   "source": [
    "# fill missing values\n",
    "df_bureau_balance=fill_mostfrequent_value(df_bureau_balance)\n",
    "df_bureau_balance = fill_median_value(df_bureau_balance)"
   ]
  },
  {
   "cell_type": "code",
   "execution_count": 45,
   "id": "1bca72ed",
   "metadata": {},
   "outputs": [],
   "source": [
    "df_bureau_balance_agg = numeric_aggregate(df=df_bureau_balance,group_var = 'SK_ID_BUREAU', df_name = 'bureau_bal')\n",
    "#Add Categorical field numerical counts\n",
    "df_bureau_balance_categorical = feature_engineering_categorical_variables(df=df_bureau_balance, \n",
    "                                                                      group_var = 'SK_ID_BUREAU', df_name = 'bureau_bal')\n",
    "# Dataframe grouped by the loan\n",
    "bureau_by_loan = df_bureau_balance_agg.merge(df_bureau_balance_categorical, right_index = True, \n",
    "                                             left_on = 'SK_ID_BUREAU', how = 'left')\n",
    "# Merge to include the SK_ID_CURR\n",
    "bureau_by_loan = df_bureau[['SK_ID_BUREAU', 'SK_ID_CURR']]\\\n",
    "                            .merge(bureau_by_loan, on = 'SK_ID_BUREAU', how = 'left').reset_index(drop=True)\n",
    "#drop SK_ID_BUREAU column and aggreate at client level\n",
    "bureau_by_loan.drop(columns = ['SK_ID_BUREAU'],axis=1,inplace=True)\n",
    "# Aggregate the stats for each client\n",
    "bureau_balance_by_client = numeric_aggregate(df=bureau_by_loan,group_var = 'SK_ID_CURR', df_name = 'client')\n",
    "\n",
    "# Merge with the training data\n",
    "df_train = df_train.merge(bureau_balance_by_client, on = 'SK_ID_CURR', how = 'left').reset_index(drop=True)"
   ]
  },
  {
   "cell_type": "code",
   "execution_count": 46,
   "id": "23b7c192",
   "metadata": {},
   "outputs": [],
   "source": [
    "#check if any records with nan or inf value before \n",
    "#zero means no inf, nan values\n",
    "df_train.replace([np.inf, -np.inf,np.NaN], 0, inplace=True)\n",
    "#df_train[df_train.isin([np.nan, np.inf, -np.inf]).any(1)].shape[0]"
   ]
  },
  {
   "cell_type": "markdown",
   "id": "2187f953",
   "metadata": {},
   "source": [
    "#### Previous Loan count from Bureau dataset"
   ]
  },
  {
   "cell_type": "code",
   "execution_count": 47,
   "id": "2a636a92",
   "metadata": {},
   "outputs": [],
   "source": [
    "prev_loan_cnt = df_bureau.groupby('SK_ID_CURR', as_index=False)['SK_ID_BUREAU'].count().\\\n",
    "                                                rename(columns = {'SK_ID_BUREAU': 'prev_loan_cnt'})\n",
    "#merge previous loan counts to train dataset\n",
    "df_train = df_train.merge(prev_loan_cnt, on = 'SK_ID_CURR', how = 'left')"
   ]
  },
  {
   "cell_type": "code",
   "execution_count": 48,
   "id": "490e29d1",
   "metadata": {},
   "outputs": [],
   "source": [
    "#check if any records with nan or inf value before \n",
    "#zero means no inf, nan values\n",
    "df_train.replace([np.inf, -np.inf,np.NaN], 0, inplace=True)\n",
    "#df_train[df_train.isin([np.nan, np.inf, -np.inf]).any(1)].shape[0]"
   ]
  },
  {
   "cell_type": "code",
   "execution_count": 49,
   "id": "99cf0266",
   "metadata": {
    "scrolled": true
   },
   "outputs": [
    {
     "data": {
      "text/plain": [
       "11"
      ]
     },
     "execution_count": 49,
     "metadata": {},
     "output_type": "execute_result"
    }
   ],
   "source": [
    "gc.enable()\n",
    "del df_bureau,df_bureau_agg,df_bureau_categorical,df_bureau_balance,df_bureau_balance_agg,\\\n",
    "    df_bureau_balance_categorical,prev_loan_cnt,df_bureau_categorical_group\n",
    "gc.collect()"
   ]
  },
  {
   "cell_type": "markdown",
   "id": "16a17192",
   "metadata": {},
   "source": [
    "####  Previous Application Dataset"
   ]
  },
  {
   "cell_type": "code",
   "execution_count": 50,
   "id": "49723736",
   "metadata": {
    "scrolled": true
   },
   "outputs": [
    {
     "name": "stdout",
     "output_type": "stream",
     "text": [
      "Memory usage of dataframe is 471.48 MB\n",
      "Memory usage after optimization is: 309.01 MB\n",
      "Decreased by 34.5%\n",
      "Number of data points :  1670214\n",
      "Number of features :  37\n"
     ]
    },
    {
     "data": {
      "text/html": [
       "<div>\n",
       "<style scoped>\n",
       "    .dataframe tbody tr th:only-of-type {\n",
       "        vertical-align: middle;\n",
       "    }\n",
       "\n",
       "    .dataframe tbody tr th {\n",
       "        vertical-align: top;\n",
       "    }\n",
       "\n",
       "    .dataframe thead th {\n",
       "        text-align: right;\n",
       "    }\n",
       "</style>\n",
       "<table border=\"1\" class=\"dataframe\">\n",
       "  <thead>\n",
       "    <tr style=\"text-align: right;\">\n",
       "      <th></th>\n",
       "      <th>SK_ID_PREV</th>\n",
       "      <th>SK_ID_CURR</th>\n",
       "      <th>NAME_CONTRACT_TYPE</th>\n",
       "      <th>AMT_ANNUITY</th>\n",
       "      <th>AMT_APPLICATION</th>\n",
       "      <th>AMT_CREDIT</th>\n",
       "      <th>AMT_DOWN_PAYMENT</th>\n",
       "      <th>AMT_GOODS_PRICE</th>\n",
       "      <th>WEEKDAY_APPR_PROCESS_START</th>\n",
       "      <th>HOUR_APPR_PROCESS_START</th>\n",
       "      <th>FLAG_LAST_APPL_PER_CONTRACT</th>\n",
       "      <th>NFLAG_LAST_APPL_IN_DAY</th>\n",
       "      <th>RATE_DOWN_PAYMENT</th>\n",
       "      <th>RATE_INTEREST_PRIMARY</th>\n",
       "      <th>RATE_INTEREST_PRIVILEGED</th>\n",
       "      <th>NAME_CASH_LOAN_PURPOSE</th>\n",
       "      <th>NAME_CONTRACT_STATUS</th>\n",
       "      <th>DAYS_DECISION</th>\n",
       "      <th>NAME_PAYMENT_TYPE</th>\n",
       "      <th>CODE_REJECT_REASON</th>\n",
       "      <th>NAME_TYPE_SUITE</th>\n",
       "      <th>NAME_CLIENT_TYPE</th>\n",
       "      <th>NAME_GOODS_CATEGORY</th>\n",
       "      <th>NAME_PORTFOLIO</th>\n",
       "      <th>NAME_PRODUCT_TYPE</th>\n",
       "      <th>CHANNEL_TYPE</th>\n",
       "      <th>SELLERPLACE_AREA</th>\n",
       "      <th>NAME_SELLER_INDUSTRY</th>\n",
       "      <th>CNT_PAYMENT</th>\n",
       "      <th>NAME_YIELD_GROUP</th>\n",
       "      <th>PRODUCT_COMBINATION</th>\n",
       "      <th>DAYS_FIRST_DRAWING</th>\n",
       "      <th>DAYS_FIRST_DUE</th>\n",
       "      <th>DAYS_LAST_DUE_1ST_VERSION</th>\n",
       "      <th>DAYS_LAST_DUE</th>\n",
       "      <th>DAYS_TERMINATION</th>\n",
       "      <th>NFLAG_INSURED_ON_APPROVAL</th>\n",
       "    </tr>\n",
       "  </thead>\n",
       "  <tbody>\n",
       "    <tr>\n",
       "      <th>0</th>\n",
       "      <td>2030495</td>\n",
       "      <td>271877</td>\n",
       "      <td>Consumer loans</td>\n",
       "      <td>1730.430054</td>\n",
       "      <td>17145.0</td>\n",
       "      <td>17145.0</td>\n",
       "      <td>0.0</td>\n",
       "      <td>17145.0</td>\n",
       "      <td>SATURDAY</td>\n",
       "      <td>15</td>\n",
       "      <td>Y</td>\n",
       "      <td>1</td>\n",
       "      <td>0.0</td>\n",
       "      <td>0.182861</td>\n",
       "      <td>0.867188</td>\n",
       "      <td>XAP</td>\n",
       "      <td>Approved</td>\n",
       "      <td>-73</td>\n",
       "      <td>Cash through the bank</td>\n",
       "      <td>XAP</td>\n",
       "      <td>NaN</td>\n",
       "      <td>Repeater</td>\n",
       "      <td>Mobile</td>\n",
       "      <td>POS</td>\n",
       "      <td>XNA</td>\n",
       "      <td>Country-wide</td>\n",
       "      <td>35</td>\n",
       "      <td>Connectivity</td>\n",
       "      <td>12.0</td>\n",
       "      <td>middle</td>\n",
       "      <td>POS mobile with interest</td>\n",
       "      <td>365243.0</td>\n",
       "      <td>-42.0</td>\n",
       "      <td>300.0</td>\n",
       "      <td>-42.0</td>\n",
       "      <td>-37.0</td>\n",
       "      <td>0.0</td>\n",
       "    </tr>\n",
       "  </tbody>\n",
       "</table>\n",
       "</div>"
      ],
      "text/plain": [
       "   SK_ID_PREV  SK_ID_CURR NAME_CONTRACT_TYPE  AMT_ANNUITY  AMT_APPLICATION  \\\n",
       "0     2030495      271877     Consumer loans  1730.430054          17145.0   \n",
       "\n",
       "   AMT_CREDIT  AMT_DOWN_PAYMENT  AMT_GOODS_PRICE WEEKDAY_APPR_PROCESS_START  \\\n",
       "0     17145.0               0.0          17145.0                   SATURDAY   \n",
       "\n",
       "   HOUR_APPR_PROCESS_START FLAG_LAST_APPL_PER_CONTRACT  \\\n",
       "0                       15                           Y   \n",
       "\n",
       "   NFLAG_LAST_APPL_IN_DAY  RATE_DOWN_PAYMENT  RATE_INTEREST_PRIMARY  \\\n",
       "0                       1                0.0               0.182861   \n",
       "\n",
       "   RATE_INTEREST_PRIVILEGED NAME_CASH_LOAN_PURPOSE NAME_CONTRACT_STATUS  \\\n",
       "0                  0.867188                    XAP             Approved   \n",
       "\n",
       "   DAYS_DECISION      NAME_PAYMENT_TYPE CODE_REJECT_REASON NAME_TYPE_SUITE  \\\n",
       "0            -73  Cash through the bank                XAP             NaN   \n",
       "\n",
       "  NAME_CLIENT_TYPE NAME_GOODS_CATEGORY NAME_PORTFOLIO NAME_PRODUCT_TYPE  \\\n",
       "0         Repeater              Mobile            POS               XNA   \n",
       "\n",
       "   CHANNEL_TYPE  SELLERPLACE_AREA NAME_SELLER_INDUSTRY  CNT_PAYMENT  \\\n",
       "0  Country-wide                35         Connectivity         12.0   \n",
       "\n",
       "  NAME_YIELD_GROUP       PRODUCT_COMBINATION  DAYS_FIRST_DRAWING  \\\n",
       "0           middle  POS mobile with interest            365243.0   \n",
       "\n",
       "   DAYS_FIRST_DUE  DAYS_LAST_DUE_1ST_VERSION  DAYS_LAST_DUE  DAYS_TERMINATION  \\\n",
       "0           -42.0                      300.0          -42.0             -37.0   \n",
       "\n",
       "   NFLAG_INSURED_ON_APPROVAL  \n",
       "0                        0.0  "
      ]
     },
     "execution_count": 50,
     "metadata": {},
     "output_type": "execute_result"
    }
   ],
   "source": [
    "df_previous_application =reduce_memory_usage(pd.read_csv('./data/previous_application.csv', encoding= 'unicode_escape'))\n",
    "print('Number of data points : ', df_previous_application.shape[0])\n",
    "print('Number of features : ', df_previous_application.shape[1])\n",
    "df_previous_application.head(1)"
   ]
  },
  {
   "cell_type": "code",
   "execution_count": 51,
   "id": "57ea135a",
   "metadata": {},
   "outputs": [
    {
     "name": "stdout",
     "output_type": "stream",
     "text": [
      "Similar columns~~>['SK_ID_CURR', 'NAME_CONTRACT_TYPE', 'AMT_ANNUITY', 'AMT_CREDIT', 'AMT_GOODS_PRICE', 'WEEKDAY_APPR_PROCESS_START', 'HOUR_APPR_PROCESS_START', 'NAME_TYPE_SUITE']\n"
     ]
    }
   ],
   "source": [
    "#Check previous application and current train dataset have similar columns. if so, rename pre_app columns, except ID columns\n",
    "print('Similar columns~~>{}'.format(df_previous_application.columns.intersection(df_train.columns).tolist()))"
   ]
  },
  {
   "cell_type": "code",
   "execution_count": 52,
   "id": "55bff1bb",
   "metadata": {},
   "outputs": [],
   "source": [
    "df_previous_application.rename(columns={\"NAME_CONTRACT_TYPE\": \"pre_app_NAME_CONTRACT_TYPE\"}, inplace = True)\n",
    "df_previous_application.rename(columns={\"AMT_ANNUITY\": \"pre_app_AMT_ANNUITY\"}, inplace = True)\n",
    "df_previous_application.rename(columns={\"AMT_CREDIT\": \"pre_app_AMT_CREDIT\"}, inplace = True)\n",
    "df_previous_application.rename(columns={\"AMT_GOODS_PRICE\": \"pre_app_AMT_GOODS_PRICEE\"}, inplace = True)\n",
    "df_previous_application.rename(columns={\"WEEKDAY_APPR_PROCESS_START\": \"pre_app_WEEKDAY_APPR_PROCESS_START\"}, inplace = True)\n",
    "df_previous_application.rename(columns={\"HOUR_APPR_PROCESS_START\": \"pre_app_HOUR_APPR_PROCESS_START\"}, inplace = True)\n",
    "df_previous_application.rename(columns={\"NAME_TYPE_SUITE\": \"pre_app_NAME_TYPE_SUITE\"}, inplace = True)"
   ]
  },
  {
   "cell_type": "code",
   "execution_count": 53,
   "id": "829a8fa2",
   "metadata": {},
   "outputs": [
    {
     "name": "stdout",
     "output_type": "stream",
     "text": [
      "column pre_app_AMT_ANNUITY min value 0.0 and max valaue 418058.15625\n",
      "column AMT_APPLICATION min value 0.0 and max valaue 6905160.0\n",
      "column pre_app_AMT_CREDIT min value 0.0 and max valaue 6905160.0\n",
      "column AMT_DOWN_PAYMENT min value -0.8999999761581421 and max valaue 3060045.0\n",
      "column pre_app_AMT_GOODS_PRICEE min value 0.0 and max valaue 6905160.0\n"
     ]
    }
   ],
   "source": [
    "df_days_cols = df_previous_application.loc[:, df_previous_application.columns.str.contains('AMT')]\n",
    "df_days_cols.columns\n",
    "for col in df_days_cols:\n",
    "    print('column {} min value {} and max valaue {}'.format(col, df_days_cols[col].min(),df_days_cols[col].max()))"
   ]
  },
  {
   "cell_type": "code",
   "execution_count": 54,
   "id": "5a7be15a",
   "metadata": {},
   "outputs": [],
   "source": [
    "#convert negative values to zero as there is not concept of negative down payment\n",
    "df_previous_application.loc[df_previous_application['AMT_DOWN_PAYMENT'] <0,'AMT_DOWN_PAYMENT']=0"
   ]
  },
  {
   "cell_type": "code",
   "execution_count": 55,
   "id": "f22d685b",
   "metadata": {},
   "outputs": [
    {
     "name": "stdout",
     "output_type": "stream",
     "text": [
      "column pre_app_WEEKDAY_APPR_PROCESS_START min value FRIDAY and max valaue WEDNESDAY\n",
      "column NFLAG_LAST_APPL_IN_DAY min value 0 and max valaue 1\n",
      "column DAYS_DECISION min value -2922 and max valaue -1\n",
      "column DAYS_FIRST_DRAWING min value -2922.0 and max valaue 365243.0\n",
      "column DAYS_FIRST_DUE min value -2892.0 and max valaue 365243.0\n",
      "column DAYS_LAST_DUE_1ST_VERSION min value -2801.0 and max valaue 365243.0\n",
      "column DAYS_LAST_DUE min value -2889.0 and max valaue 365243.0\n",
      "column DAYS_TERMINATION min value -2874.0 and max valaue 365243.0\n"
     ]
    }
   ],
   "source": [
    "df_days_cols = df_previous_application.loc[:, df_previous_application.columns.str.contains('DAY')]\n",
    "for col in df_days_cols:\n",
    "    print('column {} min value {} and max valaue {}'.format(col, df_days_cols[col].min(),df_days_cols[col].max()))"
   ]
  },
  {
   "cell_type": "code",
   "execution_count": 56,
   "id": "bcaba46a",
   "metadata": {},
   "outputs": [],
   "source": [
    "#DAYS DECISION will be +ve days\n",
    "df_previous_application['DAYS_DECISION']=-df_previous_application['DAYS_DECISION']"
   ]
  },
  {
   "cell_type": "code",
   "execution_count": 57,
   "id": "1d7d58d8",
   "metadata": {},
   "outputs": [
    {
     "name": "stdout",
     "output_type": "stream",
     "text": [
      "# of Numerical columns in previous application~~> 21\n",
      "# of categorical columns in previous application~~> 16\n"
     ]
    }
   ],
   "source": [
    "num_columns=df_previous_application.select_dtypes(exclude=object).columns.to_list()\n",
    "print('# of Numerical columns in previous application~~> {}'.format(len(num_columns)))\n",
    "\n",
    "cat_columns=df_previous_application.select_dtypes(include=object).columns.to_list()\n",
    "print('# of categorical columns in previous application~~> {}'.format(len(cat_columns)))\n",
    "cat_columns.append('SK_ID_CURR')"
   ]
  },
  {
   "cell_type": "code",
   "execution_count": 58,
   "id": "1d2de55c",
   "metadata": {},
   "outputs": [],
   "source": [
    "# fill missing values\n",
    "df_previous_application=fill_mostfrequent_value(df_previous_application)\n",
    "df_previous_application = fill_median_value(df_previous_application)"
   ]
  },
  {
   "cell_type": "code",
   "execution_count": 59,
   "id": "b9d0a666",
   "metadata": {},
   "outputs": [],
   "source": [
    "#merge previous application categorical columns with train since it is multiple take the 1 record per ID\n",
    "df_Pre_App_cat_group =df_previous_application[cat_columns].groupby('SK_ID_CURR').head(1).reset_index(drop=True)\n",
    "df_train=df_train.merge(df_Pre_App_cat_group,on='SK_ID_CURR', how='left' )"
   ]
  },
  {
   "cell_type": "code",
   "execution_count": 60,
   "id": "05433184",
   "metadata": {},
   "outputs": [],
   "source": [
    "#newly added categorical columns will have nan values. Hence fill with most frequent values \n",
    "df_train=fill_mostfrequent_value(df_train)"
   ]
  },
  {
   "cell_type": "code",
   "execution_count": 61,
   "id": "8b63bfc4",
   "metadata": {},
   "outputs": [],
   "source": [
    "# Group by the applicant id, calculate aggregation statistics\n",
    "df_prev_app_numerical_agg = numeric_aggregate(df_previous_application.drop(columns = ['SK_ID_PREV']),\n",
    "                                              group_var = 'SK_ID_CURR', df_name = 'pre_app').reset_index(drop=True)\n",
    "#merge with df_train\n",
    "df_train=df_train.merge(df_prev_app_numerical_agg,on='SK_ID_CURR', how='left')"
   ]
  },
  {
   "cell_type": "code",
   "execution_count": 62,
   "id": "20f1042b",
   "metadata": {},
   "outputs": [],
   "source": [
    "df_prev_app_cat_agg = feature_engineering_categorical_variables(df=df_previous_application, \n",
    "                                              group_var = 'SK_ID_CURR', df_name = 'pre_app').reset_index()\n",
    "#merge with df_train\n",
    "df_train=df_train.merge(df_prev_app_cat_agg,on='SK_ID_CURR', how='left' )"
   ]
  },
  {
   "cell_type": "code",
   "execution_count": 63,
   "id": "9337a4a4",
   "metadata": {},
   "outputs": [],
   "source": [
    "#check if any records with nan or inf value before \n",
    "#zero means no inf, nan values\n",
    "df_train.replace([np.inf, -np.inf,np.NaN], 0, inplace=True)\n",
    "#df_train[df_train.isin([np.nan, np.inf, -np.inf]).any(1)].shape[0]"
   ]
  },
  {
   "cell_type": "code",
   "execution_count": 64,
   "id": "d534b7a9",
   "metadata": {},
   "outputs": [
    {
     "data": {
      "text/plain": [
       "11"
      ]
     },
     "execution_count": 64,
     "metadata": {},
     "output_type": "execute_result"
    }
   ],
   "source": [
    "gc.enable()\n",
    "del df_prev_app_cat_agg,df_prev_app_numerical_agg,df_previous_application,df_Pre_App_cat_group\n",
    "gc.collect()"
   ]
  },
  {
   "cell_type": "markdown",
   "id": "8b8721ed",
   "metadata": {},
   "source": [
    "#### Monthly Cash"
   ]
  },
  {
   "cell_type": "code",
   "execution_count": 65,
   "id": "b076fd6b",
   "metadata": {
    "scrolled": false
   },
   "outputs": [
    {
     "name": "stdout",
     "output_type": "stream",
     "text": [
      "Memory usage of dataframe is 610.43 MB\n",
      "Memory usage after optimization is: 238.45 MB\n",
      "Decreased by 60.9%\n",
      "Number of data points :  10001358\n",
      "Number of features :  8\n"
     ]
    },
    {
     "data": {
      "text/html": [
       "<div>\n",
       "<style scoped>\n",
       "    .dataframe tbody tr th:only-of-type {\n",
       "        vertical-align: middle;\n",
       "    }\n",
       "\n",
       "    .dataframe tbody tr th {\n",
       "        vertical-align: top;\n",
       "    }\n",
       "\n",
       "    .dataframe thead th {\n",
       "        text-align: right;\n",
       "    }\n",
       "</style>\n",
       "<table border=\"1\" class=\"dataframe\">\n",
       "  <thead>\n",
       "    <tr style=\"text-align: right;\">\n",
       "      <th></th>\n",
       "      <th>SK_ID_PREV</th>\n",
       "      <th>SK_ID_CURR</th>\n",
       "      <th>MONTHS_BALANCE</th>\n",
       "      <th>CNT_INSTALMENT</th>\n",
       "      <th>CNT_INSTALMENT_FUTURE</th>\n",
       "      <th>NAME_CONTRACT_STATUS</th>\n",
       "      <th>SK_DPD</th>\n",
       "      <th>SK_DPD_DEF</th>\n",
       "    </tr>\n",
       "  </thead>\n",
       "  <tbody>\n",
       "    <tr>\n",
       "      <th>0</th>\n",
       "      <td>1803195</td>\n",
       "      <td>182943</td>\n",
       "      <td>-31</td>\n",
       "      <td>48.0</td>\n",
       "      <td>45.0</td>\n",
       "      <td>Active</td>\n",
       "      <td>0</td>\n",
       "      <td>0</td>\n",
       "    </tr>\n",
       "  </tbody>\n",
       "</table>\n",
       "</div>"
      ],
      "text/plain": [
       "   SK_ID_PREV  SK_ID_CURR  MONTHS_BALANCE  CNT_INSTALMENT  \\\n",
       "0     1803195      182943             -31            48.0   \n",
       "\n",
       "   CNT_INSTALMENT_FUTURE NAME_CONTRACT_STATUS  SK_DPD  SK_DPD_DEF  \n",
       "0                   45.0               Active       0           0  "
      ]
     },
     "execution_count": 65,
     "metadata": {},
     "output_type": "execute_result"
    }
   ],
   "source": [
    "df_cash_balance = reduce_memory_usage(pd.read_csv('./data/POS_CASH_balance.csv', encoding= 'unicode_escape'))\n",
    "print('Number of data points : ', df_cash_balance.shape[0])\n",
    "print('Number of features : ', df_cash_balance.shape[1])\n",
    "df_cash_balance.head(1)"
   ]
  },
  {
   "cell_type": "code",
   "execution_count": 66,
   "id": "40e38e53",
   "metadata": {},
   "outputs": [
    {
     "name": "stdout",
     "output_type": "stream",
     "text": [
      "Similar columns~~>['SK_ID_CURR', 'NAME_CONTRACT_STATUS']\n"
     ]
    }
   ],
   "source": [
    "#Check bureau and train have similar columns. if so, rename bureau columns, except ID columns\n",
    "print('Similar columns~~>{}'.format(df_cash_balance.columns.intersection(df_train.columns).tolist()))"
   ]
  },
  {
   "cell_type": "code",
   "execution_count": 67,
   "id": "4ff6f144",
   "metadata": {},
   "outputs": [],
   "source": [
    "df_cash_balance.rename(columns={\"NAME_CONTRACT_STATUS\": \"Cash_Bal_NAME_CONTRACT_STATUS\"}, inplace = True)\n",
    "df_cash_balance.rename(columns={\"MONTHS_BALANCE\": \"Cash_Bal_MONTHS_BALANCE\"}, inplace = True)"
   ]
  },
  {
   "cell_type": "code",
   "execution_count": 68,
   "id": "3ad5ec98",
   "metadata": {},
   "outputs": [
    {
     "name": "stdout",
     "output_type": "stream",
     "text": [
      "# of Numerical columns in previous application~~> 7\n",
      "# of categorical columns in previous application~~> 1\n"
     ]
    }
   ],
   "source": [
    "num_columns=df_cash_balance.select_dtypes(exclude=object).columns.to_list()\n",
    "print('# of Numerical columns in previous application~~> {}'.format(len(num_columns)))\n",
    "\n",
    "cat_columns=df_cash_balance.select_dtypes(include=object).columns.to_list()\n",
    "print('# of categorical columns in previous application~~> {}'.format(len(cat_columns)))\n",
    "cat_columns.append('SK_ID_CURR')"
   ]
  },
  {
   "cell_type": "code",
   "execution_count": 69,
   "id": "803e17ff",
   "metadata": {},
   "outputs": [
    {
     "name": "stdout",
     "output_type": "stream",
     "text": [
      "column Cash_Bal_MONTHS_BALANCE min value -96 and max valaue -1\n"
     ]
    }
   ],
   "source": [
    "df_cols = df_cash_balance.loc[:, df_cash_balance.columns.str.contains('BALANCE')]\n",
    "for col in df_cols:\n",
    "    print('column {} min value {} and max valaue {}'.format(col, df_cols[col].min(),df_cols[col].max()))"
   ]
  },
  {
   "cell_type": "code",
   "execution_count": 70,
   "id": "6a2d003c",
   "metadata": {},
   "outputs": [],
   "source": [
    "df_cash_balance['Cash_Bal_MONTHS_BALANCE']=-df_cash_balance['Cash_Bal_MONTHS_BALANCE']"
   ]
  },
  {
   "cell_type": "code",
   "execution_count": 71,
   "id": "a8f3d740",
   "metadata": {},
   "outputs": [
    {
     "name": "stdout",
     "output_type": "stream",
     "text": [
      "column CNT_INSTALMENT min value 1.0 and max valaue 92.0\n",
      "column CNT_INSTALMENT_FUTURE min value 0.0 and max valaue 85.0\n"
     ]
    }
   ],
   "source": [
    "df_cols = df_cash_balance.loc[:, df_cash_balance.columns.str.contains('INSTAL')]\n",
    "for col in df_cols:\n",
    "    print('column {} min value {} and max valaue {}'.format(col, df_cols[col].min(),df_cols[col].max()))"
   ]
  },
  {
   "cell_type": "code",
   "execution_count": 72,
   "id": "ac27e426",
   "metadata": {},
   "outputs": [],
   "source": [
    "# fill missing values\n",
    "df_cash_balance=fill_mostfrequent_value(df_cash_balance)\n",
    "df_cash_balance = fill_median_value(df_cash_balance)"
   ]
  },
  {
   "cell_type": "code",
   "execution_count": 73,
   "id": "720f283e",
   "metadata": {},
   "outputs": [],
   "source": [
    "#merge previous application categorical columns with train since it is multiple take the 1 record per ID\n",
    "df_Cash_Bal_cat_group =df_cash_balance[cat_columns].groupby('SK_ID_CURR').head(1).reset_index(drop=True)\n",
    "df_train=df_train.merge(df_Cash_Bal_cat_group,on='SK_ID_CURR', how='left')"
   ]
  },
  {
   "cell_type": "code",
   "execution_count": 74,
   "id": "d805d8b7",
   "metadata": {},
   "outputs": [],
   "source": [
    "df_train=fill_mostfrequent_value(df_train)"
   ]
  },
  {
   "cell_type": "code",
   "execution_count": 75,
   "id": "8018c65e",
   "metadata": {},
   "outputs": [],
   "source": [
    "# Group by the applicant id, calculate aggregation statistics\n",
    "df_cash_bal_numerical_agg = numeric_aggregate(df_cash_balance.drop(columns = ['SK_ID_PREV']),\n",
    "                                              group_var = 'SK_ID_CURR', df_name = 'cash_bal').reset_index(drop=True)\n",
    "                                    \n",
    "df_train=df_train.merge(df_cash_bal_numerical_agg,on='SK_ID_CURR', how='left' )\n",
    "df_cash_bal_cat_agg = feature_engineering_categorical_variables(df=df_cash_balance, \n",
    "                                                        group_var = 'SK_ID_CURR', df_name = 'cash_bal').reset_index()\n",
    "df_train=df_train.merge(df_cash_bal_cat_agg,on='SK_ID_CURR', how='left' )"
   ]
  },
  {
   "cell_type": "code",
   "execution_count": 76,
   "id": "a15d8bdc",
   "metadata": {},
   "outputs": [],
   "source": [
    "#check if any records with nan or inf value before \n",
    "#zero means no inf, nan values\n",
    "df_train.replace([np.inf, -np.inf,np.NaN], 0, inplace=True)\n",
    "#df_train[df_train.isin([np.nan, np.inf, -np.inf]).any(1)].shape[0]"
   ]
  },
  {
   "cell_type": "code",
   "execution_count": 77,
   "id": "8167a2fd",
   "metadata": {},
   "outputs": [
    {
     "data": {
      "text/plain": [
       "11"
      ]
     },
     "execution_count": 77,
     "metadata": {},
     "output_type": "execute_result"
    }
   ],
   "source": [
    "# Remove variables to free memory\n",
    "gc.enable()\n",
    "del df_cash_balance, df_cash_bal_numerical_agg, df_cash_bal_cat_agg,df_Cash_Bal_cat_group\n",
    "gc.collect()"
   ]
  },
  {
   "cell_type": "markdown",
   "id": "e13b3b9b",
   "metadata": {},
   "source": [
    "#### Monthly Credit Data"
   ]
  },
  {
   "cell_type": "code",
   "execution_count": 78,
   "id": "fcd6ef74",
   "metadata": {},
   "outputs": [
    {
     "name": "stdout",
     "output_type": "stream",
     "text": [
      "Memory usage of dataframe is 673.88 MB\n",
      "Memory usage after optimization is: 289.33 MB\n",
      "Decreased by 57.1%\n",
      "Number of data points :  3840312\n",
      "Number of features :  23\n"
     ]
    }
   ],
   "source": [
    "df_CCard_balance = reduce_memory_usage(pd.read_csv('./data/credit_card_balance.csv', encoding= 'unicode_escape'))\n",
    "print('Number of data points : ', df_CCard_balance.shape[0])\n",
    "print('Number of features : ', df_CCard_balance.shape[1])"
   ]
  },
  {
   "cell_type": "code",
   "execution_count": 79,
   "id": "a0ba8bb6",
   "metadata": {},
   "outputs": [
    {
     "data": {
      "text/html": [
       "<div>\n",
       "<style scoped>\n",
       "    .dataframe tbody tr th:only-of-type {\n",
       "        vertical-align: middle;\n",
       "    }\n",
       "\n",
       "    .dataframe tbody tr th {\n",
       "        vertical-align: top;\n",
       "    }\n",
       "\n",
       "    .dataframe thead th {\n",
       "        text-align: right;\n",
       "    }\n",
       "</style>\n",
       "<table border=\"1\" class=\"dataframe\">\n",
       "  <thead>\n",
       "    <tr style=\"text-align: right;\">\n",
       "      <th></th>\n",
       "      <th>SK_ID_PREV</th>\n",
       "      <th>SK_ID_CURR</th>\n",
       "      <th>MONTHS_BALANCE</th>\n",
       "      <th>AMT_BALANCE</th>\n",
       "      <th>AMT_CREDIT_LIMIT_ACTUAL</th>\n",
       "      <th>AMT_DRAWINGS_ATM_CURRENT</th>\n",
       "      <th>AMT_DRAWINGS_CURRENT</th>\n",
       "      <th>AMT_DRAWINGS_OTHER_CURRENT</th>\n",
       "      <th>AMT_DRAWINGS_POS_CURRENT</th>\n",
       "      <th>AMT_INST_MIN_REGULARITY</th>\n",
       "      <th>AMT_PAYMENT_CURRENT</th>\n",
       "      <th>AMT_PAYMENT_TOTAL_CURRENT</th>\n",
       "      <th>AMT_RECEIVABLE_PRINCIPAL</th>\n",
       "      <th>AMT_RECIVABLE</th>\n",
       "      <th>AMT_TOTAL_RECEIVABLE</th>\n",
       "      <th>CNT_DRAWINGS_ATM_CURRENT</th>\n",
       "      <th>CNT_DRAWINGS_CURRENT</th>\n",
       "      <th>CNT_DRAWINGS_OTHER_CURRENT</th>\n",
       "      <th>CNT_DRAWINGS_POS_CURRENT</th>\n",
       "      <th>CNT_INSTALMENT_MATURE_CUM</th>\n",
       "      <th>NAME_CONTRACT_STATUS</th>\n",
       "      <th>SK_DPD</th>\n",
       "      <th>SK_DPD_DEF</th>\n",
       "    </tr>\n",
       "  </thead>\n",
       "  <tbody>\n",
       "    <tr>\n",
       "      <th>0</th>\n",
       "      <td>2562384</td>\n",
       "      <td>378907</td>\n",
       "      <td>-6</td>\n",
       "      <td>56.970001</td>\n",
       "      <td>135000</td>\n",
       "      <td>0.0</td>\n",
       "      <td>877.5</td>\n",
       "      <td>0.0</td>\n",
       "      <td>877.5</td>\n",
       "      <td>1700.324951</td>\n",
       "      <td>1800.0</td>\n",
       "      <td>1800.0</td>\n",
       "      <td>0.0</td>\n",
       "      <td>0.0</td>\n",
       "      <td>0.0</td>\n",
       "      <td>0.0</td>\n",
       "      <td>1</td>\n",
       "      <td>0.0</td>\n",
       "      <td>1.0</td>\n",
       "      <td>35.0</td>\n",
       "      <td>Active</td>\n",
       "      <td>0</td>\n",
       "      <td>0</td>\n",
       "    </tr>\n",
       "  </tbody>\n",
       "</table>\n",
       "</div>"
      ],
      "text/plain": [
       "   SK_ID_PREV  SK_ID_CURR  MONTHS_BALANCE  AMT_BALANCE  \\\n",
       "0     2562384      378907              -6    56.970001   \n",
       "\n",
       "   AMT_CREDIT_LIMIT_ACTUAL  AMT_DRAWINGS_ATM_CURRENT  AMT_DRAWINGS_CURRENT  \\\n",
       "0                   135000                       0.0                 877.5   \n",
       "\n",
       "   AMT_DRAWINGS_OTHER_CURRENT  AMT_DRAWINGS_POS_CURRENT  \\\n",
       "0                         0.0                     877.5   \n",
       "\n",
       "   AMT_INST_MIN_REGULARITY  AMT_PAYMENT_CURRENT  AMT_PAYMENT_TOTAL_CURRENT  \\\n",
       "0              1700.324951               1800.0                     1800.0   \n",
       "\n",
       "   AMT_RECEIVABLE_PRINCIPAL  AMT_RECIVABLE  AMT_TOTAL_RECEIVABLE  \\\n",
       "0                       0.0            0.0                   0.0   \n",
       "\n",
       "   CNT_DRAWINGS_ATM_CURRENT  CNT_DRAWINGS_CURRENT  CNT_DRAWINGS_OTHER_CURRENT  \\\n",
       "0                       0.0                     1                         0.0   \n",
       "\n",
       "   CNT_DRAWINGS_POS_CURRENT  CNT_INSTALMENT_MATURE_CUM NAME_CONTRACT_STATUS  \\\n",
       "0                       1.0                       35.0               Active   \n",
       "\n",
       "   SK_DPD  SK_DPD_DEF  \n",
       "0       0           0  "
      ]
     },
     "execution_count": 79,
     "metadata": {},
     "output_type": "execute_result"
    }
   ],
   "source": [
    "df_CCard_balance.head(1)"
   ]
  },
  {
   "cell_type": "code",
   "execution_count": 80,
   "id": "bacc0946",
   "metadata": {},
   "outputs": [
    {
     "name": "stdout",
     "output_type": "stream",
     "text": [
      "column MONTHS_BALANCE min value -96 and max valaue -1\n",
      "column AMT_BALANCE min value -420250.1875 and max valaue 1505902.125\n"
     ]
    }
   ],
   "source": [
    "df_cols = df_CCard_balance.loc[:, df_CCard_balance.columns.str.contains('BALANCE')]\n",
    "for col in df_cols:\n",
    "    print('column {} min value {} and max valaue {}'.format(col, df_cols[col].min(),df_cols[col].max()))"
   ]
  },
  {
   "cell_type": "code",
   "execution_count": 81,
   "id": "ed3f46a6",
   "metadata": {},
   "outputs": [],
   "source": [
    "df_CCard_balance['MONTHS_BALANCE']=-df_CCard_balance['MONTHS_BALANCE']\n",
    "#convert negative values to zero as there is not concept of negative balance amount\n",
    "df_CCard_balance.loc[df_CCard_balance['AMT_BALANCE'] <0,'AMT_BALANCE']=0\n"
   ]
  },
  {
   "cell_type": "code",
   "execution_count": 82,
   "id": "4a2bae4a",
   "metadata": {
    "scrolled": true
   },
   "outputs": [
    {
     "name": "stdout",
     "output_type": "stream",
     "text": [
      "column AMT_BALANCE min value 0.0 and max valaue 1505902.125\n",
      "column AMT_CREDIT_LIMIT_ACTUAL min value 0 and max valaue 1350000\n",
      "column AMT_DRAWINGS_ATM_CURRENT min value -6827.31005859375 and max valaue 2115000.0\n",
      "column AMT_DRAWINGS_CURRENT min value -6211.6201171875 and max valaue 2287098.25\n",
      "column AMT_DRAWINGS_OTHER_CURRENT min value 0.0 and max valaue 1529847.0\n",
      "column AMT_DRAWINGS_POS_CURRENT min value 0.0 and max valaue 2239274.25\n",
      "column AMT_INST_MIN_REGULARITY min value 0.0 and max valaue 202882.0\n",
      "column AMT_PAYMENT_CURRENT min value 0.0 and max valaue 4289207.5\n",
      "column AMT_PAYMENT_TOTAL_CURRENT min value 0.0 and max valaue 4278315.5\n",
      "column AMT_RECEIVABLE_PRINCIPAL min value -423305.8125 and max valaue 1472316.75\n",
      "column AMT_RECIVABLE min value -420250.1875 and max valaue 1493338.125\n",
      "column AMT_TOTAL_RECEIVABLE min value -420250.1875 and max valaue 1493338.125\n"
     ]
    }
   ],
   "source": [
    "df_cols = df_CCard_balance.loc[:, df_CCard_balance.columns.str.contains('AMT')]\n",
    "for col in df_cols:\n",
    "    print('column {} min value {} and max valaue {}'.format(col, df_cols[col].min(),df_cols[col].max()))"
   ]
  },
  {
   "cell_type": "code",
   "execution_count": 83,
   "id": "77d9a0b5",
   "metadata": {},
   "outputs": [],
   "source": [
    "#-VE TO BE CHANGED TO 0. Drawings or receivables can't be -ve. \n",
    "df_CCard_balance.loc[df_CCard_balance['AMT_DRAWINGS_ATM_CURRENT'] <0,'AMT_DRAWINGS_ATM_CURRENT']=0\n",
    "df_CCard_balance.loc[df_CCard_balance['AMT_DRAWINGS_CURRENT'] <0,'AMT_DRAWINGS_CURRENT']=0\n",
    "df_CCard_balance.loc[df_CCard_balance['AMT_RECEIVABLE_PRINCIPAL'] <0,'AMT_RECEIVABLE_PRINCIPAL']=0\n",
    "df_CCard_balance.loc[df_CCard_balance['AMT_RECIVABLE'] <0,'AMT_RECIVABLE']=0\n",
    "df_CCard_balance.loc[df_CCard_balance['AMT_TOTAL_RECEIVABLE'] <0,'AMT_TOTAL_RECEIVABLE ']=0 "
   ]
  },
  {
   "cell_type": "code",
   "execution_count": 84,
   "id": "a229f1fe",
   "metadata": {},
   "outputs": [
    {
     "name": "stdout",
     "output_type": "stream",
     "text": [
      "Similar columns~~>['SK_ID_CURR', 'NAME_CONTRACT_STATUS']\n"
     ]
    }
   ],
   "source": [
    "#Check bureau and train have similar columns. if so, rename bureau columns, except ID columns\n",
    "print('Similar columns~~>{}'.format(df_CCard_balance.columns.intersection(df_train.columns).tolist()))"
   ]
  },
  {
   "cell_type": "code",
   "execution_count": 85,
   "id": "968e14fe",
   "metadata": {},
   "outputs": [],
   "source": [
    "#since NAME_CONTRACT_STATUS is repeated. rename this column\n",
    "df_CCard_balance.rename(columns = {'NAME_CONTRACT_STATUS':'CCard_NAME_CONTRACT_STATUS'}, inplace = True)\n",
    "df_CCard_balance.rename(columns = {'MONTHS_BALANCE':'CCard_MONTHS_BALANCE'}, inplace = True)"
   ]
  },
  {
   "cell_type": "code",
   "execution_count": 86,
   "id": "8d6b19f8",
   "metadata": {},
   "outputs": [
    {
     "name": "stdout",
     "output_type": "stream",
     "text": [
      "# of Numerical columns in previous application~~> 23\n",
      "# of categorical columns in previous application~~> 1\n"
     ]
    }
   ],
   "source": [
    "num_columns=df_CCard_balance.select_dtypes(exclude=object).columns.to_list()\n",
    "print('# of Numerical columns in previous application~~> {}'.format(len(num_columns)))\n",
    "\n",
    "cat_columns=df_CCard_balance.select_dtypes(include=object).columns.to_list()\n",
    "print('# of categorical columns in previous application~~> {}'.format(len(cat_columns)))\n",
    "cat_columns.append('SK_ID_CURR')"
   ]
  },
  {
   "cell_type": "code",
   "execution_count": 87,
   "id": "b144bd87",
   "metadata": {},
   "outputs": [
    {
     "data": {
      "text/html": [
       "<div>\n",
       "<style scoped>\n",
       "    .dataframe tbody tr th:only-of-type {\n",
       "        vertical-align: middle;\n",
       "    }\n",
       "\n",
       "    .dataframe tbody tr th {\n",
       "        vertical-align: top;\n",
       "    }\n",
       "\n",
       "    .dataframe thead th {\n",
       "        text-align: right;\n",
       "    }\n",
       "</style>\n",
       "<table border=\"1\" class=\"dataframe\">\n",
       "  <thead>\n",
       "    <tr style=\"text-align: right;\">\n",
       "      <th></th>\n",
       "      <th>CCard_NAME_CONTRACT_STATUS</th>\n",
       "      <th>SK_ID_CURR</th>\n",
       "    </tr>\n",
       "  </thead>\n",
       "  <tbody>\n",
       "    <tr>\n",
       "      <th>0</th>\n",
       "      <td>Active</td>\n",
       "      <td>378907</td>\n",
       "    </tr>\n",
       "  </tbody>\n",
       "</table>\n",
       "</div>"
      ],
      "text/plain": [
       "  CCard_NAME_CONTRACT_STATUS  SK_ID_CURR\n",
       "0                     Active      378907"
      ]
     },
     "execution_count": 87,
     "metadata": {},
     "output_type": "execute_result"
    }
   ],
   "source": [
    "df_CCard_balance[cat_columns].head(1)"
   ]
  },
  {
   "cell_type": "code",
   "execution_count": 88,
   "id": "e68bb726",
   "metadata": {},
   "outputs": [],
   "source": [
    "# fill missing values\n",
    "df_CCard_balance=fill_mostfrequent_value(df_CCard_balance)\n",
    "df_CCard_balance = fill_median_value(df_CCard_balance)"
   ]
  },
  {
   "cell_type": "code",
   "execution_count": 89,
   "id": "56da5244",
   "metadata": {},
   "outputs": [],
   "source": [
    "#merge previous application categorical columns with train since it is multiple take the 1 record per ID\n",
    "df_CCard_Bal_cat_group =df_CCard_balance[cat_columns].groupby('SK_ID_CURR').head(1).reset_index(drop=True)\n",
    "df_train=df_train.merge(df_CCard_Bal_cat_group,on='SK_ID_CURR', how='left')"
   ]
  },
  {
   "cell_type": "code",
   "execution_count": 90,
   "id": "8ca73c5c",
   "metadata": {},
   "outputs": [],
   "source": [
    "# fill missing values\n",
    "df_train=fill_mostfrequent_value(df_train)"
   ]
  },
  {
   "cell_type": "code",
   "execution_count": 91,
   "id": "08b7983e",
   "metadata": {},
   "outputs": [],
   "source": [
    "# Group by the applicant id, calculate aggregation statistics\n",
    "df_CCard_bal_numerical_agg = numeric_aggregate(df_CCard_balance.drop(columns = ['SK_ID_PREV']),\n",
    "                                              group_var = 'SK_ID_CURR', df_name = 'CC_bal').reset_index(drop=True)\n",
    "df_train=df_train.merge(df_CCard_bal_numerical_agg,on='SK_ID_CURR', how='left' )\n",
    "\n",
    "df_CCard_bal_cat_agg = feature_engineering_categorical_variables(df=df_CCard_balance, \n",
    "                                                        group_var = 'SK_ID_CURR', df_name = 'CC_bal').reset_index()\n",
    "df_train=df_train.merge(df_CCard_bal_cat_agg,on='SK_ID_CURR', how='left' )"
   ]
  },
  {
   "cell_type": "code",
   "execution_count": 92,
   "id": "2c82dd5d",
   "metadata": {},
   "outputs": [],
   "source": [
    "#check if any records with nan or inf value before \n",
    "#zero means no inf, nan values\n",
    "df_train.replace([np.inf, -np.inf,np.NaN], 0, inplace=True)\n",
    "#df_train[df_train.isin([np.nan, np.inf, -np.inf]).any(1)].shape[0]"
   ]
  },
  {
   "cell_type": "code",
   "execution_count": 93,
   "id": "93272302",
   "metadata": {},
   "outputs": [
    {
     "data": {
      "text/plain": [
       "0"
      ]
     },
     "execution_count": 93,
     "metadata": {},
     "output_type": "execute_result"
    }
   ],
   "source": [
    "gc.enable()\n",
    "del df_CCard_bal_numerical_agg,df_CCard_bal_cat_agg,df_CCard_balance,df_CCard_Bal_cat_group\n",
    "gc.collect()"
   ]
  },
  {
   "cell_type": "markdown",
   "id": "a7622ca6",
   "metadata": {},
   "source": [
    "#### Installment Payments"
   ]
  },
  {
   "cell_type": "code",
   "execution_count": 94,
   "id": "a0bb0358",
   "metadata": {
    "scrolled": true
   },
   "outputs": [
    {
     "name": "stdout",
     "output_type": "stream",
     "text": [
      "Memory usage of dataframe is 830.41 MB\n",
      "Memory usage after optimization is: 311.40 MB\n",
      "Decreased by 62.5%\n",
      "Number of data points :  13605401\n",
      "Number of features :  8\n"
     ]
    },
    {
     "data": {
      "text/html": [
       "<div>\n",
       "<style scoped>\n",
       "    .dataframe tbody tr th:only-of-type {\n",
       "        vertical-align: middle;\n",
       "    }\n",
       "\n",
       "    .dataframe tbody tr th {\n",
       "        vertical-align: top;\n",
       "    }\n",
       "\n",
       "    .dataframe thead th {\n",
       "        text-align: right;\n",
       "    }\n",
       "</style>\n",
       "<table border=\"1\" class=\"dataframe\">\n",
       "  <thead>\n",
       "    <tr style=\"text-align: right;\">\n",
       "      <th></th>\n",
       "      <th>SK_ID_PREV</th>\n",
       "      <th>SK_ID_CURR</th>\n",
       "      <th>NUM_INSTALMENT_VERSION</th>\n",
       "      <th>NUM_INSTALMENT_NUMBER</th>\n",
       "      <th>DAYS_INSTALMENT</th>\n",
       "      <th>DAYS_ENTRY_PAYMENT</th>\n",
       "      <th>AMT_INSTALMENT</th>\n",
       "      <th>AMT_PAYMENT</th>\n",
       "    </tr>\n",
       "  </thead>\n",
       "  <tbody>\n",
       "    <tr>\n",
       "      <th>0</th>\n",
       "      <td>1054186</td>\n",
       "      <td>161674</td>\n",
       "      <td>1.0</td>\n",
       "      <td>6</td>\n",
       "      <td>-1180.0</td>\n",
       "      <td>-1187.0</td>\n",
       "      <td>6948.359863</td>\n",
       "      <td>6948.359863</td>\n",
       "    </tr>\n",
       "  </tbody>\n",
       "</table>\n",
       "</div>"
      ],
      "text/plain": [
       "   SK_ID_PREV  SK_ID_CURR  NUM_INSTALMENT_VERSION  NUM_INSTALMENT_NUMBER  \\\n",
       "0     1054186      161674                     1.0                      6   \n",
       "\n",
       "   DAYS_INSTALMENT  DAYS_ENTRY_PAYMENT  AMT_INSTALMENT  AMT_PAYMENT  \n",
       "0          -1180.0             -1187.0     6948.359863  6948.359863  "
      ]
     },
     "execution_count": 94,
     "metadata": {},
     "output_type": "execute_result"
    }
   ],
   "source": [
    "df_Installment_payments = reduce_memory_usage(pd.read_csv('./data/installments_payments.csv', encoding= 'unicode_escape'))\n",
    "print('Number of data points : ', df_Installment_payments.shape[0])\n",
    "print('Number of features : ', df_Installment_payments.shape[1])\n",
    "df_Installment_payments.head(1)"
   ]
  },
  {
   "cell_type": "code",
   "execution_count": 95,
   "id": "950b3b57",
   "metadata": {},
   "outputs": [
    {
     "name": "stdout",
     "output_type": "stream",
     "text": [
      "column NUM_INSTALMENT_VERSION min value 0.0 and max valaue 178.0\n",
      "column NUM_INSTALMENT_NUMBER min value 1 and max valaue 277\n",
      "column DAYS_INSTALMENT min value -2922.0 and max valaue -1.0\n",
      "column AMT_INSTALMENT min value 0.0 and max valaue 3771487.75\n"
     ]
    }
   ],
   "source": [
    "df_cols = df_Installment_payments.loc[:, df_Installment_payments.columns.str.contains('INSTALMENT')]\n",
    "for col in df_cols:\n",
    "    print('column {} min value {} and max valaue {}'.format(col, df_cols[col].min(),df_cols[col].max()))"
   ]
  },
  {
   "cell_type": "code",
   "execution_count": 96,
   "id": "0f486d5d",
   "metadata": {},
   "outputs": [],
   "source": [
    "df_Installment_payments['DAYS_INSTALMENT']=-df_Installment_payments['DAYS_INSTALMENT']"
   ]
  },
  {
   "cell_type": "code",
   "execution_count": 97,
   "id": "ec22e5a7",
   "metadata": {},
   "outputs": [
    {
     "name": "stdout",
     "output_type": "stream",
     "text": [
      "column AMT_INSTALMENT min value 0.0 and max valaue 3771487.75\n",
      "column AMT_PAYMENT min value 0.0 and max valaue 3771487.75\n"
     ]
    }
   ],
   "source": [
    "df_cols = df_Installment_payments.loc[:, df_Installment_payments.columns.str.contains('AMT')]\n",
    "for col in df_cols:\n",
    "    print('column {} min value {} and max valaue {}'.format(col, df_cols[col].min(),df_cols[col].max()))"
   ]
  },
  {
   "cell_type": "code",
   "execution_count": 98,
   "id": "6489de47",
   "metadata": {},
   "outputs": [
    {
     "name": "stdout",
     "output_type": "stream",
     "text": [
      "column DAYS_INSTALMENT min value 1.0 and max valaue 2922.0\n",
      "column DAYS_ENTRY_PAYMENT min value -4920.0 and max valaue -1.0\n"
     ]
    }
   ],
   "source": [
    "df_cols = df_Installment_payments.loc[:, df_Installment_payments.columns.str.contains('DAY')]\n",
    "for col in df_cols:\n",
    "    print('column {} min value {} and max valaue {}'.format(col, df_cols[col].min(),df_cols[col].max()))"
   ]
  },
  {
   "cell_type": "code",
   "execution_count": 99,
   "id": "e5ae40a5",
   "metadata": {},
   "outputs": [],
   "source": [
    "df_Installment_payments['DAYS_ENTRY_PAYMENT']=-df_Installment_payments['DAYS_ENTRY_PAYMENT']"
   ]
  },
  {
   "cell_type": "code",
   "execution_count": 100,
   "id": "e7641ed3",
   "metadata": {
    "scrolled": true
   },
   "outputs": [
    {
     "name": "stdout",
     "output_type": "stream",
     "text": [
      "Similar columns~~>['SK_ID_CURR']\n"
     ]
    }
   ],
   "source": [
    "#Check bureau and train have similar columns. if so, rename bureau columns, except ID columns\n",
    "print('Similar columns~~>{}'.format(df_Installment_payments.columns.intersection(df_train.columns).tolist()))"
   ]
  },
  {
   "cell_type": "code",
   "execution_count": 101,
   "id": "c5d7bb19",
   "metadata": {},
   "outputs": [
    {
     "name": "stdout",
     "output_type": "stream",
     "text": [
      "# of Numerical columns in previous application~~> 8\n",
      "# of categorical columns in previous application~~> 0\n"
     ]
    }
   ],
   "source": [
    "num_columns=df_Installment_payments.select_dtypes(exclude=object).columns.to_list()\n",
    "print('# of Numerical columns in previous application~~> {}'.format(len(num_columns)))\n",
    "\n",
    "cat_columns=df_Installment_payments.select_dtypes(include=object).columns.to_list()\n",
    "print('# of categorical columns in previous application~~> {}'.format(len(cat_columns)))"
   ]
  },
  {
   "cell_type": "code",
   "execution_count": 102,
   "id": "cbcf488e",
   "metadata": {},
   "outputs": [],
   "source": [
    "# fill missing values\n",
    "df_Installment_payments = fill_median_value(df_Installment_payments)"
   ]
  },
  {
   "cell_type": "code",
   "execution_count": 103,
   "id": "1577ca8d",
   "metadata": {},
   "outputs": [],
   "source": [
    "# Group by the applicant id, calculate aggregation statistics\n",
    "df_Install_payment_numerical_agg = numeric_aggregate(df_Installment_payments.drop(columns = ['SK_ID_PREV']),\n",
    "                                              group_var = 'SK_ID_CURR', df_name = 'Install_pay').reset_index(drop=True)\n",
    "                                    \n",
    "df_train=df_train.merge(df_Install_payment_numerical_agg,on='SK_ID_CURR', how='left' )"
   ]
  },
  {
   "cell_type": "code",
   "execution_count": 104,
   "id": "142710a8",
   "metadata": {},
   "outputs": [],
   "source": [
    "#check if any records with nan or inf value before \n",
    "#zero means no inf, nan values\n",
    "df_train.replace([np.inf, -np.inf,np.NaN], 0, inplace=True)\n",
    "#df_train[df_train.isin([np.nan, np.inf, -np.inf]).any(1)].shape[0]"
   ]
  },
  {
   "cell_type": "code",
   "execution_count": 105,
   "id": "07bbe035",
   "metadata": {},
   "outputs": [
    {
     "data": {
      "text/plain": [
       "0"
      ]
     },
     "execution_count": 105,
     "metadata": {},
     "output_type": "execute_result"
    }
   ],
   "source": [
    "gc.enable()\n",
    "del df_Installment_payments,df_Install_payment_numerical_agg\n",
    "gc.collect()"
   ]
  },
  {
   "cell_type": "code",
   "execution_count": 106,
   "id": "1aabae60",
   "metadata": {},
   "outputs": [
    {
     "name": "stdout",
     "output_type": "stream",
     "text": [
      "Memory usage of dataframe is 2074.56 MB\n",
      "Memory usage after optimization is: 668.64 MB\n",
      "Decreased by 67.8%\n"
     ]
    }
   ],
   "source": [
    "#df_train=df_train.reindex(index=df_train['SK_ID_CURR'])\n",
    "df_train =  reduce_memory_usage(df_train)"
   ]
  },
  {
   "cell_type": "code",
   "execution_count": 107,
   "id": "5e9c92a2",
   "metadata": {},
   "outputs": [
    {
     "data": {
      "text/plain": [
       "(307511, 896)"
      ]
     },
     "execution_count": 107,
     "metadata": {},
     "output_type": "execute_result"
    }
   ],
   "source": [
    "df_train.shape"
   ]
  },
  {
   "cell_type": "code",
   "execution_count": 108,
   "id": "2d0bf2a2",
   "metadata": {},
   "outputs": [],
   "source": [
    "df_train.to_csv('./data/pre_processed_df_train.csv', sep='\\t', encoding='utf-8')"
   ]
  }
 ],
 "metadata": {
  "kernelspec": {
   "display_name": "Python 3 (ipykernel)",
   "language": "python",
   "name": "python3"
  },
  "language_info": {
   "codemirror_mode": {
    "name": "ipython",
    "version": 3
   },
   "file_extension": ".py",
   "mimetype": "text/x-python",
   "name": "python",
   "nbconvert_exporter": "python",
   "pygments_lexer": "ipython3",
   "version": "3.9.7"
  }
 },
 "nbformat": 4,
 "nbformat_minor": 5
}
